{
 "cells": [
  {
   "cell_type": "markdown",
   "id": "74f90b67-a207-4afd-bbe9-2661da9ba175",
   "metadata": {},
   "source": [
    "# Início da codificação"
   ]
  },
  {
   "cell_type": "code",
   "execution_count": 1,
   "id": "a9dcf721-515b-4991-a66f-1495918cf4e7",
   "metadata": {},
   "outputs": [],
   "source": [
    "import os\n",
    "import warnings\n",
    "import sys\n",
    "\n",
    "import pandas as pd\n",
    "import matplotlib.pyplot as plt\n",
    "import matplotlib as mpl\n",
    "import numpy as np\n",
    "# from sklearn import linear_model, preprocessing, metrics, model_selection\n",
    "from sklearn import metrics, model_selection\n",
    "import mlflow\n",
    "import mlflow.sklearn\n",
    "from mlflow.models.signature import infer_signature\n",
    "from mlflow.tracking import MlflowClient\n",
    "\n",
    "import seaborn as sn\n",
    "\n",
    "SEED = 10\n",
    "\n",
    "np.random.seed(SEED)"
   ]
  },
  {
   "cell_type": "markdown",
   "id": "db54d948-612c-49d2-b3d7-0888655ee954",
   "metadata": {},
   "source": [
    "# Configuração do preditor de arremessos"
   ]
  },
  {
   "cell_type": "code",
   "execution_count": 2,
   "id": "d41ef4cc-d1d0-4c21-bc6e-242fb94eca55",
   "metadata": {},
   "outputs": [],
   "source": [
    "registered_model_name = 'modelo_arremesso' # Define o nome do modelo\n",
    "min_precision = 0.5 # Define a precisão\n",
    "model_version = -1 # Inicializa o controle de versão como -1 para que Client Mlflow verifique se existe alguma versão publicada\n",
    "nexamples = 5"
   ]
  },
  {
   "cell_type": "markdown",
   "id": "6723061f-4bd4-406d-a753-fbe724ba52dc",
   "metadata": {},
   "source": [
    "# Experimento de classificação de arremessos"
   ]
  },
  {
   "cell_type": "code",
   "execution_count": 7,
   "id": "26a36d90-f848-4508-8984-9e5acfc9e569",
   "metadata": {},
   "outputs": [],
   "source": [
    "# O componente MLflow Tracking é uma API e interface do usuário para registrar parâmetros, versões de código, métricas e arquivos de saída \n",
    "# ao executar seu código de aprendizado de máquina e para visualizar os resultados posteriormente.\n",
    "# Muitos usuários também executam o MLflow em suas máquinas locais com um banco de dados compatível com SQLAlchemy : SQLite . \n",
    "# Nesse caso, os artefatos são armazenados no ./mlruns diretório local e as entidades MLflow são inseridas em um arquivo de banco de dados SQLite mlruns.db.\n",
    "\n",
    "# Configura o MLflow para usar o sqlite como repositorio\n",
    "mlflow.set_tracking_uri(\"sqlite:///mlruns.db\")\n",
    "\n",
    "experiment_name = 'Classificador de Arremessos' # Define o nome do experimento\n",
    "experiment = mlflow.get_experiment_by_name(experiment_name) # Recupera um experimento na loja de back-end a partir do seu nome.\n",
    "if experiment is None: # Se o experimento não foi encontrado\n",
    "    experiment_id = mlflow.create_experiment(experiment_name) # Cria um experimento na loja de back-end usando o nome indicado e recupera o seu id\n",
    "    experiment = mlflow.get_experiment(experiment_id) # Recupera o experimento criado o passo anterior na loja de back-end a partir do seu id.\n",
    "experiment_id = experiment.experiment_id # recuperar id do experimento a partir do objeto experimento"
   ]
  },
  {
   "cell_type": "markdown",
   "id": "45f5eb76-7205-4054-92f7-9a758308378f",
   "metadata": {},
   "source": [
    "# Leitura dos dados de arremessos "
   ]
  },
  {
   "cell_type": "code",
   "execution_count": 9,
   "id": "597cccee-8bd4-456a-adb3-8ae184698eec",
   "metadata": {},
   "outputs": [
    {
     "name": "stdout",
     "output_type": "stream",
     "text": [
      "== Bases de Dados ======================================\n",
      "Dados filtrados: (20285, 6)\n",
      "Dados de treino: (16228, 6)\n",
      "Dados de teste: (4057, 6)\n",
      "Dados novos: (5412, 6)\n",
      "Columns: Index(['lat', 'lon', 'minutes_remaining', 'playoffs', 'shot_distance',\n",
      "       'shot_made_flag'],\n",
      "      dtype='object')\n"
     ]
    },
    {
     "name": "stderr",
     "output_type": "stream",
     "text": [
      "C:\\Users\\spereira\\AppData\\Local\\Temp\\ipykernel_22120\\517986200.py:39: SettingWithCopyWarning: \n",
      "A value is trying to be set on a copy of a slice from a DataFrame.\n",
      "Try using .loc[row_indexer,col_indexer] = value instead\n",
      "\n",
      "See the caveats in the documentation: https://pandas.pydata.org/pandas-docs/stable/user_guide/indexing.html#returning-a-view-versus-a-copy\n",
      "  df_train[target_col] = y_train\n",
      "C:\\Users\\spereira\\AppData\\Local\\Temp\\ipykernel_22120\\517986200.py:41: SettingWithCopyWarning: \n",
      "A value is trying to be set on a copy of a slice from a DataFrame.\n",
      "Try using .loc[row_indexer,col_indexer] = value instead\n",
      "\n",
      "See the caveats in the documentation: https://pandas.pydata.org/pandas-docs/stable/user_guide/indexing.html#returning-a-view-versus-a-copy\n",
      "  df_test[target_col] = y_test\n"
     ]
    }
   ],
   "source": [
    "# COLOCAR RUN DE LEITURA DE DADOS\n",
    "# PARAMETROS: top_features,\n",
    "# METRICS: SHAPE de cada base de dados\n",
    "# ARTIFACTS: nenhum\n",
    "\n",
    "top_features = ['lat','lon','minutes_remaining', 'playoffs','shot_distance'] # Define a features principais\n",
    "percentual_teste=0.2\n",
    "\n",
    "# Inicia uma nova execução do MLflow, definindo-a como a execução ativa na qual as métricas e os parâmetros serão registrados. \n",
    "# O valor de retorno pode ser usado como gerenciador de contexto dentro de um withbloco; \n",
    "# caso contrário, você deve chamar end_run() para encerrar a execução atual.\n",
    "\n",
    "with mlflow.start_run(experiment_id = experiment_id, run_name = 'PreparacaoDados'):\n",
    "    \n",
    "    # Carrega os dados no dataframe\n",
    "    df_original = pd.read_csv('../Data/dataset_kobe.csv',sep=',') \n",
    "    # Define a coluna alvo\n",
    "    target_col = 'shot_made_flag'\n",
    "    # Copia todos os dados do dataframe original selecionando apenas as features principais (top_features) e o alvo (shot_type)\n",
    "    df = df_original[top_features + ['shot_type', target_col]].copy()\n",
    "    # remove a linha que possua alguma coluna vazia\n",
    "    df = df.dropna() \n",
    "    # converte a coluna shot_made_flag em inteiro \n",
    "    df['shot_made_flag'] = df['shot_made_flag'].astype(int)  \n",
    "    # Copia os dados do dataframe que possui as top_features selecionando apenas os casos onde shot_type for igual a \"2PT Field Goal\"\n",
    "    # e remove a coluna shot_type para compor a base de treino, teste e operação\n",
    "    df_filtered = df[df['shot_type'] == '2PT Field Goal'].copy().drop('shot_type', axis=1)\n",
    "    \n",
    "    # Separar 80% do dataframe que contém shot_type for igual a \"2PT Field Goal\"para compor a base de treinamento/teste e 20% para a base de operação\n",
    "    df_train, df_test, y_train, y_test = model_selection.train_test_split(\n",
    "        df_filtered, \n",
    "        df_filtered[target_col],\n",
    "        test_size=percentual_teste,\n",
    "        random_state=None,\n",
    "        shuffle=True,\n",
    "        stratify=None)\n",
    "    \n",
    "    # 80% dados para treino e teste\n",
    "    df_train[target_col] = y_train\n",
    "    # 20% dados para operação\n",
    "    df_test[target_col] = y_test\n",
    "    \n",
    "    # Copia os dados do dataframe que possui as top_features selecionando apenas os casos onde shot_type for igual a \"3PT Field Goal\"\n",
    "    # e remove a coluna shot_type para compor a base de novidades\n",
    "    df_novelty = df[df['shot_type'] == '3PT Field Goal'].copy().drop('shot_type', axis=1)\n",
    "    \n",
    "    # grava os dataframes em arquivos parquet.\n",
    "    df_filtered.to_parquet('../Data/processed/data_filtered.parquet') \n",
    "    df_train.to_parquet('../Data/operalization/base_train.parquet') \n",
    "    df_test.to_parquet('../Data/operalization/base_test.parquet')\n",
    "    df_novelty.to_parquet('../Data/operalization/base_novelty.parquet')\n",
    "    \n",
    "    # to_parquet - Esta função grava o dataframe como um arquivo parquet.\n",
    "    # O Apache Parquet fornece uma serialização colunar binária particionada para quadros de dados. \n",
    "    # Ele foi projetado para tornar a leitura e gravação de quadros de dados eficientes e para facilitar o compartilhamento de dados entre linguagens de análise de dados. \n",
    "    # O Parquet pode usar uma variedade de técnicas de compactação para reduzir o tamanho do arquivo o máximo possível, mantendo um bom desempenho de leitura.\n",
    "    \n",
    "    # LOG DE PARAMETROS DO MODELO\n",
    "    mlflow.log_param(\"top_features\", top_features)\n",
    "    mlflow.log_param(\"% Teste\", top_features)\n",
    "\n",
    "    # LOG DE METRICAS GLOBAIS\n",
    "    # logs a single key-value metric. The value must always be a number. MLflow remembers the history of values for each metric. \n",
    "    # Use mlflow.log_metrics() to log multiple metrics at once.\n",
    "    mlflow.log_metric(\"Dados filtrados\", df_filtered.shape[0])\n",
    "    mlflow.log_metric(\"Dados de treino\", df_train.shape[0])\n",
    "    mlflow.log_metric(\"Dados de teste\", df_test.shape[0])\n",
    "    mlflow.log_metric(\"Dados novos\", df_novelty.shape[0])\n",
    "    \n",
    "    # LOG DE ARTEFATOS\n",
    "    # mlflow.log_artifact() logs a local file or directory as an artifact, optionally taking an artifact_path to place it in within the run’s artifact URI. \n",
    "    # Run artifacts can be organized into directories, so you can place the artifact in a directory this way.\n",
    "    mlflow.log_artifact('../Data/processed/data_filtered.parquet')\n",
    "    mlflow.log_artifact('../Data/operalization/base_train.parquet')\n",
    "    mlflow.log_artifact('../Data/operalization/base_test.parquet')\n",
    "    mlflow.log_artifact('../Data/operalization/base_novelty.parquet')\n",
    "\n",
    "mlflow.end_run()\n",
    "\n",
    "print('== Bases de Dados ======================================')\n",
    "print(f'Dados filtrados: {df_filtered.shape}')\n",
    "print(f'Dados de treino: {df_train.shape}')\n",
    "print(f'Dados de teste: {df_test.shape}')\n",
    "print(f'Dados novos: {df_novelty.shape}')\n",
    "print(f'Columns: {df_train.columns}')"
   ]
  },
  {
   "cell_type": "code",
   "execution_count": 5,
   "id": "58496be4-13ac-4b17-ab56-91be1565f607",
   "metadata": {},
   "outputs": [],
   "source": [
    "# mlflow ui --backend-store-uri sqlite:///mlruns.db -p 5002"
   ]
  },
  {
   "cell_type": "markdown",
   "id": "b8e17201-9f1d-48cf-b1d0-48521e4fc3ef",
   "metadata": {},
   "source": [
    "# Treinamento do modelo"
   ]
  },
  {
   "cell_type": "code",
   "execution_count": 10,
   "id": "0b84fa5e-b7e5-42da-86dd-a231bdc758a6",
   "metadata": {},
   "outputs": [
    {
     "name": "stderr",
     "output_type": "stream",
     "text": [
      "INFO  [logs] Saving 'Feature Importance.png'\n",
      "INFO  [logs] Visual Rendered Successfully\n",
      "INFO  [logs] plot_model() succesfully completed......................................\n",
      "INFO  [logs] Initializing save_model()\n",
      "INFO  [logs] save_model(model=CustomProbabilityThresholdClassifier(C=1.0, class_weight=None,\n",
      "                                     classifier=LogisticRegression(C=1.0,\n",
      "                                                                   class_weight=None,\n",
      "                                                                   dual=False,\n",
      "                                                                   fit_intercept=True,\n",
      "                                                                   intercept_scaling=1,\n",
      "                                                                   l1_ratio=None,\n",
      "                                                                   max_iter=1000,\n",
      "                                                                   multi_class='auto',\n",
      "                                                                   n_jobs=None,\n",
      "                                                                   penalty='l2',\n",
      "                                                                   random_state=7339,\n",
      "                                                                   solver='lbfgs',\n",
      "                                                                   tol=0.0001,\n",
      "                                                                   verbose=0,\n",
      "                                                                   warm_start=False),\n",
      "                                     dual=False, fit_intercept=True,\n",
      "                                     intercept_scaling=1, l1_ratio=None,\n",
      "                                     max_iter=1000, multi_class='auto',\n",
      "                                     n_jobs=None, penalty='l2',\n",
      "                                     probability_threshold=0.5,\n",
      "                                     random_state=7339, solver='lbfgs',\n",
      "                                     tol=0.0001, verbose=0, warm_start=False), model_name=./modelo_arremesso, prep_pipe_=Pipeline(memory=None,\n",
      "         steps=[('dtypes',\n",
      "                 DataTypes_Auto_infer(categorical_features=[],\n",
      "                                      display_types=False, features_todrop=[],\n",
      "                                      id_columns=[],\n",
      "                                      ml_usecase='classification',\n",
      "                                      numerical_features=['lat', 'lon',\n",
      "                                                          'minutes_remaining',\n",
      "                                                          'playoffs',\n",
      "                                                          'shot_distance'],\n",
      "                                      target='shot_made_flag',\n",
      "                                      time_features=[])),\n",
      "                ('imputer',\n",
      "                 Simple_Imputer(categorical_strategy='not_available',...\n",
      "                ('P_transform', 'passthrough'), ('binn', 'passthrough'),\n",
      "                ('rem_outliers', 'passthrough'), ('cluster_all', 'passthrough'),\n",
      "                ('dummy', Dummify(target='shot_made_flag')),\n",
      "                ('fix_perfect', Remove_100(target='shot_made_flag')),\n",
      "                ('clean_names', Clean_Colum_Names()),\n",
      "                ('feature_select', 'passthrough'), ('fix_multi', 'passthrough'),\n",
      "                ('dfs', 'passthrough'), ('pca', 'passthrough')],\n",
      "         verbose=False), verbose=True, kwargs={})\n",
      "INFO  [logs] Adding model into prep_pipe\n",
      "INFO  [logs] ./modelo_arremesso.pkl saved in current working directory\n",
      "INFO  [logs] Pipeline(memory=None,\n",
      "         steps=[('dtypes',\n",
      "                 DataTypes_Auto_infer(categorical_features=[],\n",
      "                                      display_types=False, features_todrop=[],\n",
      "                                      id_columns=[],\n",
      "                                      ml_usecase='classification',\n",
      "                                      numerical_features=['lat', 'lon',\n",
      "                                                          'minutes_remaining',\n",
      "                                                          'playoffs',\n",
      "                                                          'shot_distance'],\n",
      "                                      target='shot_made_flag',\n",
      "                                      time_features=[])),\n",
      "                ('imputer',\n",
      "                 Simple_Imputer(categorical_strategy='not_available',...\n",
      "                                                                                    multi_class='auto',\n",
      "                                                                                    n_jobs=None,\n",
      "                                                                                    penalty='l2',\n",
      "                                                                                    random_state=7339,\n",
      "                                                                                    solver='lbfgs',\n",
      "                                                                                    tol=0.0001,\n",
      "                                                                                    verbose=0,\n",
      "                                                                                    warm_start=False),\n",
      "                                                      dual=False,\n",
      "                                                      fit_intercept=True,\n",
      "                                                      intercept_scaling=1,\n",
      "                                                      l1_ratio=None,\n",
      "                                                      max_iter=1000,\n",
      "                                                      multi_class='auto',\n",
      "                                                      n_jobs=None, penalty='l2',\n",
      "                                                      probability_threshold=0.5,\n",
      "                                                      random_state=7339,\n",
      "                                                      solver='lbfgs',\n",
      "                                                      tol=0.0001, verbose=0,\n",
      "                                                      warm_start=False)]],\n",
      "         verbose=False)\n",
      "INFO  [logs] save_model() successfully completed......................................\n",
      "INFO  [logs] Initializing load_model()\n",
      "INFO  [logs] load_model(model_name=./modelo_arremesso, platform=None, authentication=None, verbose=True)\n"
     ]
    },
    {
     "name": "stdout",
     "output_type": "stream",
     "text": [
      "Transformation Pipeline and Model Successfully Saved\n",
      "Transformation Pipeline and Model Successfully Loaded\n",
      "                       Model  Accuracy     AUC  Recall   Prec.      F1  \\\n",
      "lr       Logistic Regression    0.5781  0.5994  0.4972  0.5690  0.5307   \n",
      "dt  Decision Tree Classifier    0.5426  0.5192  0.6148  0.5198  0.5632   \n",
      "\n",
      "     Kappa     MCC  LogLoss  TT (Sec)  \n",
      "lr  0.1507  0.1519  14.5708     1.340  \n",
      "dt  0.0903  0.0917  15.7968     0.017  \n"
     ]
    }
   ],
   "source": [
    "import pycaret.classification as pc # Essa função inicializa o ambiente de treinamento e cria o pipeline de transformação.\n",
    "# COLOCAR RUN DE TREINAMENTO DE MODELOS\n",
    "# PARAMETROS: fold_strategy, fold, model_name, registered_model_name, cross_validation\n",
    "# METRICS: auto sklearn\n",
    "# ARTIFACTS: plots\n",
    "\n",
    "model_name_list = ['lr', 'dt']\n",
    "probability_threshold = 0.5\n",
    "cross_validation = True\n",
    "fold_strategy = 'stratifiedkfold'\n",
    "fold = 10\n",
    "\n",
    "# train/test\n",
    "s = pc.setup(data = df_train, # Dados para treino e teste dos modelos\n",
    "             test_data = df_test,\n",
    "             numeric_features = top_features,\n",
    "             target = target_col,\n",
    "             #train_size=0.8,\n",
    "             silent = True,\n",
    "             #fold_strategy = fold_strategy,\n",
    "             #fold = fold,\n",
    "             log_experiment = True, \n",
    "             experiment_name = experiment_name, \n",
    "             log_plots = True,\n",
    "             normalize = True  # Normalização, transformação e remoção de variáveis\n",
    "            )\n",
    "\n",
    "# add Log Loss metric in pycaret\n",
    "from sklearn.metrics import log_loss\n",
    "pc.add_metric('logloss', 'LogLoss', log_loss, greater_is_better=False)\n",
    "\n",
    "# O PyCaret treina os modelos com hiperparametros defaults, sem ajuste fino.\n",
    "#bestmodel = pc.compare_models(n_select = 1, sort='Accuracy', include=model_name_list, probability_threshold = probability_threshold, cross_validation = cross_validation)\n",
    "bestmodel = pc.compare_models(n_select = 1, sort='logloss', include=model_name_list, probability_threshold = probability_threshold, cross_validation = cross_validation)\n",
    "# compare_models - This function trains and evaluates the performance of all estimators available in the model library using cross-validation. \n",
    "# The output of this function is a scoring grid with average cross-validated scores. \n",
    "# Metrics evaluated during CV can be accessed using the get_metrics function. Custom metrics can be added or removed using add_metric and remove_metric function.\n",
    "\n",
    "# bestmodel = pc.create_model(model_name, cross_validation = cross_validation, probability_threshold = probability_threshold)\n",
    "\n",
    "# Log do run, e nao do modelo respectivo\n",
    "classification_plots = [ 'auc','pr','confusion_matrix',\n",
    "                        'threshold', 'learning','vc','feature']\n",
    "for plot_type in classification_plots:\n",
    "    print('=> Aplicando plot ', plot_type)\n",
    "    try:\n",
    "        artifact = pc.plot_model(bestmodel, plot=plot_type, save=True, use_train_data=False)\n",
    "        mlflow.log_artifact(artifact)\n",
    "    except:\n",
    "        print('=> Nao possivel plotar: ', plot_type )\n",
    "        continue\n",
    "\n",
    "pc.save_model(bestmodel, f'./{registered_model_name}') \n",
    "# Carrega novamente o pipeline + bestmodel\n",
    "model_pipe = pc.load_model(f'./{registered_model_name}')\n",
    "\n",
    "mlflow.end_run()\n",
    "\n",
    "print(pc.pull());"
   ]
  },
  {
   "cell_type": "markdown",
   "id": "5c0bd866-474a-4ac1-b1e2-69da1790fb70",
   "metadata": {},
   "source": [
    "# Avaliar a precisão mínima do modelo"
   ]
  },
  {
   "cell_type": "code",
   "execution_count": 11,
   "id": "68882c02-4277-424a-9a0b-16fba58e9c0d",
   "metadata": {},
   "outputs": [
    {
     "name": "stderr",
     "output_type": "stream",
     "text": [
      "INFO  [logs] Initializing predict_model()\n",
      "INFO  [logs] predict_model(estimator=CustomProbabilityThresholdClassifier(C=1.0, class_weight=None,\n",
      "                                     classifier=LogisticRegression(C=1.0,\n",
      "                                                                   class_weight=None,\n",
      "                                                                   dual=False,\n",
      "                                                                   fit_intercept=True,\n",
      "                                                                   intercept_scaling=1,\n",
      "                                                                   l1_ratio=None,\n",
      "                                                                   max_iter=1000,\n",
      "                                                                   multi_class='auto',\n",
      "                                                                   n_jobs=None,\n",
      "                                                                   penalty='l2',\n",
      "                                                                   random_state=7339,\n",
      "                                                                   solver='lbfgs',\n",
      "                                                                   tol=0.0001,\n",
      "                                                                   verbose=0,\n",
      "                                                                   warm_start=False),\n",
      "                                     dual=False, fit_intercept=True,\n",
      "                                     intercept_scaling=1, l1_ratio=None,\n",
      "                                     max_iter=1000, multi_class='auto',\n",
      "                                     n_jobs=None, penalty='l2',\n",
      "                                     probability_threshold=0.5,\n",
      "                                     random_state=7339, solver='lbfgs',\n",
      "                                     tol=0.0001, verbose=0, warm_start=False), probability_threshold=None, encoded_labels=False, drift_report=False, raw_score=False, round=4, verbose=True, ml_usecase=MLUsecase.CLASSIFICATION, display=None)\n",
      "INFO  [logs] Checking exceptions\n",
      "INFO  [logs] Preloading libraries\n",
      "INFO  [logs] Preparing display monitor\n"
     ]
    },
    {
     "data": {
      "text/html": [
       "<style type=\"text/css\">\n",
       "</style>\n",
       "<table id=\"T_68fcc\">\n",
       "  <thead>\n",
       "    <tr>\n",
       "      <th class=\"blank level0\" >&nbsp;</th>\n",
       "      <th id=\"T_68fcc_level0_col0\" class=\"col_heading level0 col0\" >Model</th>\n",
       "      <th id=\"T_68fcc_level0_col1\" class=\"col_heading level0 col1\" >Accuracy</th>\n",
       "      <th id=\"T_68fcc_level0_col2\" class=\"col_heading level0 col2\" >AUC</th>\n",
       "      <th id=\"T_68fcc_level0_col3\" class=\"col_heading level0 col3\" >Recall</th>\n",
       "      <th id=\"T_68fcc_level0_col4\" class=\"col_heading level0 col4\" >Prec.</th>\n",
       "      <th id=\"T_68fcc_level0_col5\" class=\"col_heading level0 col5\" >F1</th>\n",
       "      <th id=\"T_68fcc_level0_col6\" class=\"col_heading level0 col6\" >Kappa</th>\n",
       "      <th id=\"T_68fcc_level0_col7\" class=\"col_heading level0 col7\" >MCC</th>\n",
       "      <th id=\"T_68fcc_level0_col8\" class=\"col_heading level0 col8\" >LogLoss</th>\n",
       "    </tr>\n",
       "  </thead>\n",
       "  <tbody>\n",
       "    <tr>\n",
       "      <th id=\"T_68fcc_level0_row0\" class=\"row_heading level0 row0\" >0</th>\n",
       "      <td id=\"T_68fcc_row0_col0\" class=\"data row0 col0\" >Logistic Regression</td>\n",
       "      <td id=\"T_68fcc_row0_col1\" class=\"data row0 col1\" >0.5716</td>\n",
       "      <td id=\"T_68fcc_row0_col2\" class=\"data row0 col2\" >0.5900</td>\n",
       "      <td id=\"T_68fcc_row0_col3\" class=\"data row0 col3\" >0.4705</td>\n",
       "      <td id=\"T_68fcc_row0_col4\" class=\"data row0 col4\" >0.5492</td>\n",
       "      <td id=\"T_68fcc_row0_col5\" class=\"data row0 col5\" >0.5068</td>\n",
       "      <td id=\"T_68fcc_row0_col6\" class=\"data row0 col6\" >0.1321</td>\n",
       "      <td id=\"T_68fcc_row0_col7\" class=\"data row0 col7\" >0.1334</td>\n",
       "      <td id=\"T_68fcc_row0_col8\" class=\"data row0 col8\" >14.7964</td>\n",
       "    </tr>\n",
       "  </tbody>\n",
       "</table>\n"
      ],
      "text/plain": [
       "<pandas.io.formats.style.Styler at 0x196babb4670>"
      ]
     },
     "metadata": {},
     "output_type": "display_data"
    },
    {
     "name": "stdout",
     "output_type": "stream",
     "text": [
      "=> Aceito o modelo com precisão 0.54920049200492 (min: 0.5)\n"
     ]
    },
    {
     "name": "stderr",
     "output_type": "stream",
     "text": [
      "Successfully registered model 'modelo_arremesso'.\n",
      "2022/09/14 23:17:07 INFO mlflow.tracking._model_registry.client: Waiting up to 300 seconds for model version to finish creation.                     Model name: modelo_arremesso, version 1\n",
      "Created version '1' of model 'modelo_arremesso'.\n"
     ]
    }
   ],
   "source": [
    "# COLOCAR RUN APROVACAO DE MODELO\n",
    "# PARAMETROS: min_precision\n",
    "# METRICS: new_version, precision\n",
    "# ARTIFACTS: None\n",
    "\n",
    "\n",
    "\n",
    "with mlflow.start_run(experiment_id = experiment_id, run_name = 'AprovacaoModelo'):\n",
    "    \n",
    "    pred_holdout = pc.predict_model(bestmodel)\n",
    "    pr = metrics.precision_score(pred_holdout[target_col], pred_holdout['Label'],) # Calcula a precisão\n",
    "    # A precisão é a razão tp / (tp + fp) onde tp é o número de verdadeiros positivos e fp o número de falsos positivos. \n",
    "    # A precisão é intuitivamente a capacidade do classificador não rotular como positiva uma amostra que é negativa.\n",
    "    # O melhor valor é 1 e o pior valor é 0.\n",
    "    if pr > min_precision: # se o modelo atingiu a precisão mínima configurada\n",
    "        print(f'=> Aceito o modelo com precisão {pr} (min: {min_precision})')\n",
    "        pred_holdout.to_parquet('modelo_arremesso_teste.parquet') # Salva o modelo\n",
    "        # Assinatura do Modelo Inferida pelo MLFlow\n",
    "        model_features = list(df_filtered.drop(target_col, axis=1).columns) # armazena as features do modelo\n",
    "        inf_signature = infer_signature(df_filtered[model_features], model_pipe.predict(df_filtered))\n",
    "        # Exemplo de entrada para o MLmodel\n",
    "        input_example = {x: df_filtered[x].values[:nexamples] for x in model_features}\n",
    "        # Log do pipeline de modelagem do sklearn e registrar como uma nova versao\n",
    "        mlflow.sklearn.log_model(\n",
    "            sk_model=model_pipe,\n",
    "            artifact_path=\"sklearn-model\",\n",
    "            registered_model_name=registered_model_name,\n",
    "            signature = inf_signature,\n",
    "            input_example = input_example\n",
    "        )\n",
    "        \n",
    "        # Criacao do cliente do servico MLFlow e atualizacao versao modelo\n",
    "        client = MlflowClient()\n",
    "        if model_version == -1:\n",
    "            model_version = client.get_latest_versions(registered_model_name)[-1].version\n",
    "            \n",
    "        # Registrar o modelo como staging\n",
    "        client.transition_model_version_stage(\n",
    "            name=registered_model_name,\n",
    "            version=model_version, \n",
    "            stage=\"Staging\"\n",
    "        )\n",
    "    else:\n",
    "        print(f'=> Rejeitado o modelo com precisão {pr} (min: {min_precision})')\n",
    "\n",
    "    # LOG DE PARAMETROS DO MODELO\n",
    "    mlflow.log_param(\"precisao_minima\", min_precision)\n",
    "\n",
    "    # LOG DE METRICAS GLOBAIS\n",
    "    mlflow.log_metric(\"new_version\", model_version)\n",
    "    mlflow.log_metric(\"precisao\", pr)\n",
    "\n",
    "mlflow.end_run()"
   ]
  },
  {
   "cell_type": "markdown",
   "id": "aa0e6cc5-5e87-45e0-8bce-78ad3220beb5",
   "metadata": {},
   "source": [
    "# Serviço do Modelo "
   ]
  },
  {
   "cell_type": "code",
   "execution_count": 12,
   "id": "0fe8e00c-a413-42ac-b9bc-300f647a870a",
   "metadata": {},
   "outputs": [],
   "source": [
    "# Para implantar um modelo associado a uma execução em um servidor de rastreamento, \n",
    "# defina a variável de ambiente MLFLOW_TRACKING_URI para a URL do servidor desejado.\n",
    "import os\n",
    "os.environ['MLFLOW_TRACKING_URI'] = 'sqlite:///mlruns.db' # Criando uma variável de ambiente"
   ]
  },
  {
   "cell_type": "code",
   "execution_count": 13,
   "id": "aa78731d-937b-4b90-9058-77730c48edb4",
   "metadata": {},
   "outputs": [
    {
     "name": "stdout",
     "output_type": "stream",
     "text": [
      "^C\n"
     ]
    }
   ],
   "source": [
    "# Para implantar o servidor, execute\n",
    "!mlflow models serve -m \"models:/modelo_arremesso/Staging\" --no-conda -p 5001\n",
    "\n",
    "# Depois deste comando é necessário interromper o kernel"
   ]
  },
  {
   "cell_type": "code",
   "execution_count": null,
   "id": "2a1b175a-6a51-4f15-a438-d6ab4f5870bb",
   "metadata": {},
   "outputs": [],
   "source": [
    "## Comando Power Shell para criar variável de ambiente e implantar o modelo\n",
    "# $env:MLFLOW_TRACKING_URI = 'sqlite:///mlruns.db'\n",
    "\n",
    "# Comando Powershell para listar variáveis de ambiente\n",
    "# dir env:\n",
    "\n",
    "# Comando para publicar o modelo\n",
    "# mlflow models serve -m \"models:/modelo_arremesso/Staging\" --no-conda -p 5001"
   ]
  },
  {
   "cell_type": "markdown",
   "id": "280fa332-5494-4b8f-988b-222a711f5c8e",
   "metadata": {},
   "source": [
    "# Operação do sistema preditor de arremessos"
   ]
  },
  {
   "cell_type": "code",
   "execution_count": 14,
   "id": "dfce87eb-1eb4-4ebe-947b-eb74b3afb498",
   "metadata": {},
   "outputs": [
    {
     "data": {
      "text/html": [
       "<div>\n",
       "<style scoped>\n",
       "    .dataframe tbody tr th:only-of-type {\n",
       "        vertical-align: middle;\n",
       "    }\n",
       "\n",
       "    .dataframe tbody tr th {\n",
       "        vertical-align: top;\n",
       "    }\n",
       "\n",
       "    .dataframe thead th {\n",
       "        text-align: right;\n",
       "    }\n",
       "</style>\n",
       "<table border=\"1\" class=\"dataframe\">\n",
       "  <thead>\n",
       "    <tr style=\"text-align: right;\">\n",
       "      <th></th>\n",
       "      <th>lat</th>\n",
       "      <th>lon</th>\n",
       "      <th>minutes_remaining</th>\n",
       "      <th>playoffs</th>\n",
       "      <th>shot_distance</th>\n",
       "      <th>shot_made_flag</th>\n",
       "      <th>operation_label</th>\n",
       "    </tr>\n",
       "  </thead>\n",
       "  <tbody>\n",
       "    <tr>\n",
       "      <th>22904</th>\n",
       "      <td>34.0443</td>\n",
       "      <td>-118.2698</td>\n",
       "      <td>6</td>\n",
       "      <td>0</td>\n",
       "      <td>0</td>\n",
       "      <td>0</td>\n",
       "      <td>1</td>\n",
       "    </tr>\n",
       "  </tbody>\n",
       "</table>\n",
       "</div>"
      ],
      "text/plain": [
       "           lat       lon  minutes_remaining  playoffs  shot_distance  \\\n",
       "22904  34.0443 -118.2698                  6         0              0   \n",
       "\n",
       "       shot_made_flag  operation_label  \n",
       "22904               0                1  "
      ]
     },
     "execution_count": 14,
     "metadata": {},
     "output_type": "execute_result"
    }
   ],
   "source": [
    "import requests\n",
    "# Configura a requisição\n",
    "host = 'localhost'\n",
    "port = '5001'\n",
    "url = f'http://{host}:{port}/invocations'\n",
    "headers = {'Content-Type': 'application/json',}\n",
    "\n",
    "# Serializa os dados do dataframe operação removendo a coluna alvo para usar na requisição\n",
    "http_data = df_novelty.drop(target_col,axis=1).to_json(orient='split') \n",
    "\n",
    "# Executa a requisição\n",
    "r = requests.post(url=url, headers=headers, data=http_data)\n",
    "\n",
    "# Recupera o resultado da requisição e armazena no dataframe operação\n",
    "df_novelty.loc[:, 'operation_label'] = pd.read_json(r.text).values[:,0] \n",
    "\n",
    "# Salva o dataframe operação\n",
    "df_novelty.to_parquet('../Data/operalization/base_novelty.parquet')\n",
    "\n",
    "# Lista os casos onde o resultado do modelo seja 1 e ordenado pela distância da maior para a menor.\n",
    "df_novelty[df_novelty.operation_label == 1].sort_values('shot_distance', ascending=False).head(5)"
   ]
  },
  {
   "cell_type": "markdown",
   "id": "835cc065-0861-48dc-a615-ca9f73384e81",
   "metadata": {},
   "source": [
    "# Revalidacao de Amostras para Monitoramento"
   ]
  },
  {
   "cell_type": "code",
   "execution_count": 15,
   "id": "8bc3b284-9826-45d6-8241-9db127483458",
   "metadata": {},
   "outputs": [
    {
     "name": "stdout",
     "output_type": "stream",
     "text": [
      "== DADOS DE CONTROLE ==\n",
      "              precision    recall  f1-score   support\n",
      "\n",
      "           0       0.61      1.00      0.76        92\n",
      "           1       0.00      0.00      0.00        58\n",
      "\n",
      "    accuracy                           0.61       150\n",
      "   macro avg       0.31      0.50      0.38       150\n",
      "weighted avg       0.38      0.61      0.47       150\n",
      "\n"
     ]
    }
   ],
   "source": [
    "# COLOCAR RUN REVALIDACAO\n",
    "# PARAMETROS: min_samples_control\n",
    "# METRICS: matriz de confusao\n",
    "# ARTIFACTS:\n",
    "\n",
    "# Utilizacao da amostra de controle, que teria sido reavaliada por especialistas\n",
    "min_samples_control = 150\n",
    "\n",
    "with mlflow.start_run(experiment_id=experiment_id, run_name = 'RevalidacaoOperacao'):\n",
    "\n",
    "    # Recupera os dados de operação e armazena no dataframe\n",
    "    df_novelty = pd.read_parquet('../Data/operalization/base_novelty.parquet')\n",
    "\n",
    "    # Extrai do dataframe de operação algumas amostras para controle\n",
    "    data_control = df_novelty.sample(min_samples_control, random_state=SEED)\n",
    "    \n",
    "    # Salva as amostras de controle em um arquivo\n",
    "    data_control.to_parquet('modelo_arremesso_controle.parquet')\n",
    "\n",
    "    print('== DADOS DE CONTROLE ==')\n",
    "    # classification_report - Cria um relatório de texto mostrando as principais métricas de classificação.\n",
    "    print(metrics.classification_report(data_control[target_col], data_control['operation_label']))\n",
    "    \n",
    "    # LOG DE PARAMETROS DO MODELO\n",
    "    mlflow.log_param(\"min_samples_control\", min_samples_control)\n",
    "\n",
    "    # LOG DE METRICAS GLOBAIS\n",
    "    cm = metrics.confusion_matrix(data_control[target_col], data_control['operation_label'])\n",
    "    # ESPECIFICIDADE - A proporção de verdadeiros negativos: a capacidade do sistema em predizer corretamente a ausência da condição para casos que realmente não a têm.\n",
    "    # ESPECIFICIDADE = ACERTOS NEGATIVOS / TOTAL DE NEGATIVOS\n",
    "    specificity = cm[0,0] / cm.sum(axis=1)[0] # VN / (VN + FP)\n",
    "    # SENSIBILIDADE - A proporção de verdadeiros positivos: a capacidade do sistema em predizer corretamente a condição para casos que realmente a têm.\n",
    "    # SENSIBILIDADE = ACERTOS POSITIVOS / TOTAL DE POSITIVOS\n",
    "    sensibility = cm[1,1] / cm.sum(axis=1)[1] # VP / (VP + FN)\n",
    "    # PRECISON - A precisão é uma métrica que avalia a quantidade de verdadeiros positivos sobre a soma de todos os valores positivos\n",
    "    precision   = cm[1,1] / cm.sum(axis=0)[1] # VP / (FP + VP)\n",
    "    \n",
    "    mlflow.log_metric(\"Especificidade\", specificity)\n",
    "    mlflow.log_metric(\"Sensibilidade\", sensibility)\n",
    "    mlflow.log_metric(\"Precisao\", precision)\n",
    "\n",
    "mlflow.end_run()"
   ]
  },
  {
   "cell_type": "markdown",
   "id": "73a3567a-d1ac-43b9-8417-3a0a2e9df90d",
   "metadata": {},
   "source": [
    "## Alarme de Desvio "
   ]
  },
  {
   "cell_type": "code",
   "execution_count": 16,
   "id": "5f079fd3-eef6-441a-b1cc-886b8c850874",
   "metadata": {},
   "outputs": [],
   "source": [
    "def data_drift_alarm(var_name, dev_data, data_test, data_control):    \n",
    "    sn.kdeplot(dev_data[var_name], label='Desenvolvimento')\n",
    "    sn.kdeplot(data_test[var_name], label='Teste')\n",
    "    sn.kdeplot(data_control[var_name], label='Monitoramento')\n",
    "    plt.grid()\n",
    "    plt.legend(loc='best')\n",
    "    plt.title(f'Distribuição Variável {var_name}')\n",
    "    plt.ylabel('Densidade')\n",
    "    plt.xlabel(f'Unidade de {var_name}')\n",
    "    plt.tight_layout()"
   ]
  },
  {
   "cell_type": "markdown",
   "id": "1ca0c376-9214-4bb6-84e5-d37518c2686f",
   "metadata": {},
   "source": [
    "## Alarme de Retreinamento"
   ]
  },
  {
   "cell_type": "code",
   "execution_count": 17,
   "id": "a5faf0c8-5a31-4b2c-8708-8af4e9a2acb7",
   "metadata": {},
   "outputs": [],
   "source": [
    "def alarm(data_monitoring, testset, min_eff_alarm):\n",
    "    cm = metrics.confusion_matrix(data_monitoring[target_col], data_monitoring['operation_label'])\n",
    "    specificity_m = cm[0,0] / cm.sum(axis=1)[0] # VN / (VN + FP)\n",
    "    sensibility_m = cm[1,1] / cm.sum(axis=1)[1] # VP / (FN + VP)\n",
    "    precision_m   = cm[1,1] / cm.sum(axis=0)[1] # VP / (FP + VP)\n",
    "\n",
    "    cm = metrics.confusion_matrix(testset[target_col], testset['Label'])\n",
    "    specificity_t = cm[0,0] / cm.sum(axis=1)[0] # VN / (VN + FP)\n",
    "    sensibility_t = cm[1,1] / cm.sum(axis=1)[1] # VP / (FN + VP)\n",
    "    precision_t   = cm[1,1] / cm.sum(axis=0)[1] # VP / (FP + VP)\n",
    "\n",
    "    retrain = False\n",
    "    for name, metric_m, metric_t in zip(['especificidade', 'sensibilidade', 'precisao'],\n",
    "                                        [specificity_m, sensibility_m, precision_m],\n",
    "                                        [specificity_t, sensibility_t, precision_t]):\n",
    "        \n",
    "        print(f'\\t=> {name} de teste {metric_t} e de controle {metric_m}')\n",
    "        if (metric_t-metric_m)/metric_t > min_eff_alarm:\n",
    "            print(f'\\t=> MODELO OPERANDO FORA DO ESPERADO')\n",
    "            retrain = True\n",
    "        else:\n",
    "            print(f'\\t=> MODELO OPERANDO DENTRO DO ESPERADO')\n",
    "           \n",
    "        \n",
    "    return (retrain, [specificity_m, sensibility_m, precision_m],\n",
    "                                        [specificity_t, sensibility_t, precision_t] ) "
   ]
  },
  {
   "cell_type": "markdown",
   "id": "3753f39e-ba23-4bab-b4f6-734295d46fe5",
   "metadata": {},
   "source": [
    "# Operação Aplicação Python"
   ]
  },
  {
   "cell_type": "markdown",
   "id": "86bb23c4-06fa-4d3a-9e91-fd9a1e03b70b",
   "metadata": {},
   "source": [
    "### Monitoramento Base de Novidade"
   ]
  },
  {
   "cell_type": "code",
   "execution_count": 20,
   "id": "73dd34bf-0e10-498f-b522-76f9664268ce",
   "metadata": {},
   "outputs": [
    {
     "name": "stdout",
     "output_type": "stream",
     "text": [
      "== ALARME DE RETREINAMENTO - BASE NOVIDADE ==\n",
      "\t=> especificidade de teste 0.6604909680407596 e de controle 0.9997245179063361\n",
      "\t=> MODELO OPERANDO DENTRO DO ESPERADO\n",
      "\t=> sensibilidade de teste 0.47049525816649107 e de controle 0.0\n",
      "\t=> MODELO OPERANDO FORA DO ESPERADO\n",
      "\t=> precisao de teste 0.54920049200492 e de controle 0.0\n",
      "\t=> MODELO OPERANDO FORA DO ESPERADO\n",
      "==> RETREINAMENTO NECESSARIO\n"
     ]
    },
    {
     "data": {
      "image/png": "[encoded data removed]",
      "text/plain": [
       "<Figure size 432x288 with 1 Axes>"
      ]
     },
     "metadata": {
      "needs_background": "light"
     },
     "output_type": "display_data"
    }
   ],
   "source": [
    "# COLOCAR RUN MONITORAMENTO NOVIDADE\n",
    "# PARAMETROS: min_eff_alarm\n",
    "# METRICS: metricas avaliadas e de referencia\n",
    "# ARTIFACTS:\n",
    "\n",
    "print('== ALARME DE RETREINAMENTO - BASE NOVIDADE ==')\n",
    "# 10% de desvio aceitavel na metrica. Deve ser estimado pelo conjunto de validacao cruzada. \n",
    "min_eff_alarm = 0.1 \n",
    "\n",
    "with mlflow.start_run(experiment_id=experiment_id, run_name = 'MonitoramentoNovidade'):\n",
    "\n",
    "    model_uri = f\"models:/modelo_arremesso/Staging\"\n",
    "    loaded_model = mlflow.sklearn.load_model(model_uri)\n",
    "    data_novelty = pd.read_parquet('../Data/operalization/base_novelty.parquet')\n",
    "    data_novelty.loc[:, 'operation_label'] = loaded_model.predict(data_novelty.drop(target_col,axis=1))\n",
    "    \n",
    "    (retrain, [specificity_m, sensibility_m, precision_m],\n",
    "              [specificity_t, sensibility_t, precision_t] ) = alarm(data_novelty, pred_holdout, min_eff_alarm)\n",
    "    if retrain:\n",
    "        print('==> RETREINAMENTO NECESSARIO')\n",
    "    else:\n",
    "        print('==> RETREINAMENTO NAO NECESSARIO')\n",
    "    # LOG DE PARAMETROS DO MODELO\n",
    "    mlflow.log_param(\"min_eff_alarm\", min_eff_alarm)\n",
    "\n",
    "    # LOG DE METRICAS GLOBAIS\n",
    "    mlflow.log_metric(\"Alarme Retreino\", float(retrain))\n",
    "    mlflow.log_metric(\"Especificidade Controle\", specificity_m)\n",
    "    mlflow.log_metric(\"Sensibilidade Controle\", sensibility_m)\n",
    "    mlflow.log_metric(\"Precisao Controle\", precision_m)\n",
    "    mlflow.log_metric(\"Especificidade Teste\", specificity_t)\n",
    "    mlflow.log_metric(\"Sensibilidade Teste\", sensibility_t)\n",
    "    mlflow.log_metric(\"Precisao Teste\", precision_t)\n",
    "    # LOG ARTEFATO\n",
    "    var_name = 'shot_distance'\n",
    "    data_drift_alarm(var_name, df_filtered, pred_holdout, data_novelty)\n",
    "    plot_path = f'novidade_datadrift_{var_name}.png'\n",
    "    plt.savefig(plot_path)\n",
    "    mlflow.log_artifact(plot_path)\n",
    "\n",
    "mlflow.end_run() "
   ]
  },
  {
   "cell_type": "code",
   "execution_count": null,
   "id": "064d6e4c-9ed6-4fe8-a274-ddf086d11ac3",
   "metadata": {},
   "outputs": [],
   "source": []
  }
 ],
 "metadata": {
  "kernelspec": {
   "display_name": "Python 3 (ipykernel)",
   "language": "python",
   "name": "python3"
  },
  "language_info": {
   "codemirror_mode": {
    "name": "ipython",
    "version": 3
   },
   "file_extension": ".py",
   "mimetype": "text/x-python",
   "name": "python",
   "nbconvert_exporter": "python",
   "pygments_lexer": "ipython3",
   "version": "3.8.10"
  }
 },
 "nbformat": 4,
 "nbformat_minor": 5
}
