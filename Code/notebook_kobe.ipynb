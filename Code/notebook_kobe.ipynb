{
 "cells": [
  {
   "cell_type": "markdown",
   "id": "ac389308-d479-4adb-8222-ab1f97b17bfc",
   "metadata": {},
   "source": [
    "# Orientações do projeto"
   ]
  },
  {
   "cell_type": "markdown",
   "id": "01e00ce1-5c6d-49cc-8953-23acaf1da7d0",
   "metadata": {},
   "source": [
    "1. A solução criada nesse projeto deve ser disponibilizada em repositório git e disponibilizada em servidor de repositórios (Github (recomendado), Bitbucket ou Gitlab). O projeto deve obedecer o Framework TDSP da Microsoft. Todos os artefatos produzidos deverão conter informações referentes a esse projeto (não serão aceitos documentos vazios ou fora de contexto). Escreva o link para seu repositório.\n",
    "   * Link para o repositório no GitHub: https://github.com/sergioopereira/EngenhariaMachineLearning \n",
    "\n",
    "2. Iremos desenvolver um preditor de arremessos usando duas abordagens (regressão e classificação) para prever se o \"Black Mamba\" (apelido de Kobe) acertou ou errou a cesta.\n",
    "    Para começar o desenvolvimento, desenhe um diagrama que demonstra todas as etapas necessárias em um projeto de inteligência artificial desde a aquisição de dados, passando pela criação dos modelos, indo até a operação do modelo.\n",
    "    <img src=\"https://docs.microsoft.com/pt-br/azure/architecture/data-science-process/media/lifecycle/tdsp-lifecycle2.png\" width=\"800\" height=\"597\">\n",
    "\n",
    "3. Descreva a importância de implementar pipelines de desenvolvimento e produção numa solução de aprendizado de máquinas.\n",
    "\n",
    "4. Como as ferramentas Streamlit, MLFlow, PyCaret e Scikit-Learn auxiliam na construção dos pipelines descritos anteriormente? A resposta deve abranger os seguintes aspectos:\n",
    "a. Rastreamento de experimentos;\n",
    "b. Funções de treinamento;\n",
    "c. Monitoramento da saúde do modelo;\n",
    "d. Atualização de modelo;\n",
    "e. Provisionamento (Deployment).\n",
    "\n",
    "5. Com base no diagrama realizado na questão 2, aponte os artefatos que serão criados ao longo de um projeto. Para cada artefato, indique qual seu objetivo.\n",
    "\n",
    "6. Implemente o pipeline de processamento de dados com o mlflow, rodada (run) com o nome \"PreparacaoDados\":\n",
    "a. Os dados devem estar localizados em \"/Data/kobe_dataset.csv\"\n",
    "b. Observe que há dados faltantes na base de dados! As linhas que possuem dados faltantes devem ser desconsideradas. Você também irá filtrar os dados onde o valor de shot_type for igual à 2PT Field Goal. Ainda, para esse exercício serão apenas consideradas as colunas: \n",
    "i. lat\n",
    "ii. lng\n",
    "iii. minutes remaining\n",
    "iv. period\n",
    "v. playoffs\n",
    "vi. shot_distance\n",
    "A variável shot_made_flag será seu alvo, onde 0 indica que Kobe errou e 1 que a cesta foi realizada. O dataset resultante será armazenado na pasta \"/Data/processed/data_filtered.parquet\". Ainda sobre essa seleção, qual a dimensão resultante do dataset?\n",
    "c. Separe os dados em treino (80%) e teste (20 %) usando uma escolha aleatória e estratificada. Armazene os datasets resultantes em \"/Data/operalization/base_{train|test}.parquet . Explique como a escolha de treino e teste afetam o resultado do modelo final. Quais estratégias ajudam a minimizar os efeitos de viés de dados.\n",
    "d. Registre os parâmetros (% teste) e métricas (tamanho de cada base) no MlFlow\n",
    "\n",
    "7. Implementar o pipeline de treinamento do modelo com o Mlflow usando o nome \"Treinamento\"\n",
    "a. Com os dados separados para treinamento, treine um modelo com regressão logística do sklearn usando a biblioteca pyCaret.\n",
    "b. Registre a função custo \"log loss\" usando a base de teste\n",
    "c. Com os dados separados para treinamento, treine um modelo de classificação do sklearn usando a biblioteca pyCaret. A escolha do algoritmo de classificação é livre. Justifique sua escolha.\n",
    "d. Registre a função custo \"log loss\" e F1_score para esse novo modelo\n",
    "\n",
    "8. Registre o modelo de classificação e o disponibilize através do MLFlow através de API. Selecione agora os dados da base de dados original onde shot_type for igual à 3PT Field Goal (será uma nova base de dados) e através da biblioteca requests, aplique o modelo treinado. Publique uma tabela com os resultados obtidos e indique o novo log loss e f1_score.\n",
    "a. O modelo é aderente a essa nova base? Justifique.\n",
    "b. Descreva como podemos monitorar a saúde do modelo no cenário com e sem a disponibilidade da variável resposta para o modelo em operação\n",
    "c. Descreva as estratégias reativa e preditiva de retreinamento para o modelo em operação.\n",
    "\n",
    "9. Implemente um dashboard de monitoramento da operação usando Streamlit."
   ]
  },
  {
   "cell_type": "markdown",
   "id": "74f90b67-a207-4afd-bbe9-2661da9ba175",
   "metadata": {},
   "source": [
    "# Início da codificação"
   ]
  },
  {
   "cell_type": "code",
   "execution_count": 1,
   "id": "a9dcf721-515b-4991-a66f-1495918cf4e7",
   "metadata": {},
   "outputs": [],
   "source": [
    "import os\n",
    "import warnings\n",
    "import sys\n",
    "\n",
    "import pandas as pd\n",
    "import matplotlib.pyplot as plt\n",
    "import matplotlib as mpl\n",
    "import numpy as np\n",
    "from sklearn import linear_model, preprocessing, metrics, model_selection\n",
    "import mlflow\n",
    "import mlflow.sklearn\n",
    "from mlflow.models.signature import infer_signature\n",
    "from mlflow.tracking import MlflowClient\n",
    "\n",
    "import seaborn as sn\n",
    "\n",
    "if 'inline_rc' not in dir():\n",
    "    inline_rc = dict(mpl.rcParams)\n",
    "\n",
    "SEED = 10\n",
    "\n",
    "\n",
    "# import logging\n",
    "# logging.basicConfig(level=logging.WARN)\n",
    "# logger = logging.getLogger(__name__)\n",
    "np.random.seed(SEED)"
   ]
  },
  {
   "cell_type": "code",
   "execution_count": 2,
   "id": "fff08cff-e345-400c-869e-ab223d9521dc",
   "metadata": {},
   "outputs": [],
   "source": [
    "# Reset do estilo de cores do matplotlib\n",
    "\n",
    "mpl.rcParams.update(inline_rc)\n",
    "font = {'family' : 'normal',\n",
    "        'weight' : 'normal',\n",
    "        'size'   : 14}\n",
    "mpl.rc('font', **font)\n",
    "lines = {'linewidth' : 3}\n",
    "mpl.rc('lines', **lines)"
   ]
  },
  {
   "cell_type": "markdown",
   "id": "db54d948-612c-49d2-b3d7-0888655ee954",
   "metadata": {},
   "source": [
    "# Configuração do preditor de arremessos"
   ]
  },
  {
   "cell_type": "code",
   "execution_count": 3,
   "id": "d41ef4cc-d1d0-4c21-bc6e-242fb94eca55",
   "metadata": {},
   "outputs": [],
   "source": [
    "registered_model_name = 'modelo_arremesso' # Define o nome do modelo\n",
    "min_precision = 0.5 # Define a precisão\n",
    "model_version = -1 # recuperar a ultima versao\n",
    "nexamples = 5"
   ]
  },
  {
   "cell_type": "markdown",
   "id": "6723061f-4bd4-406d-a753-fbe724ba52dc",
   "metadata": {},
   "source": [
    "# Experimento de classificação de arremessos"
   ]
  },
  {
   "cell_type": "code",
   "execution_count": 4,
   "id": "26a36d90-f848-4508-8984-9e5acfc9e569",
   "metadata": {},
   "outputs": [
    {
     "name": "stderr",
     "output_type": "stream",
     "text": [
      "2022/09/04 20:17:32 INFO mlflow.store.db.utils: Creating initial MLflow database tables...\n",
      "2022/09/04 20:17:32 INFO mlflow.store.db.utils: Updating database tables\n",
      "INFO  [alembic.runtime.migration] Context impl SQLiteImpl.\n",
      "INFO  [alembic.runtime.migration] Will assume non-transactional DDL.\n",
      "INFO  [alembic.runtime.migration] Running upgrade  -> 451aebb31d03, add metric step\n",
      "INFO  [alembic.runtime.migration] Running upgrade 451aebb31d03 -> 90e64c465722, migrate user column to tags\n",
      "INFO  [alembic.runtime.migration] Running upgrade 90e64c465722 -> 181f10493468, allow nulls for metric values\n",
      "INFO  [alembic.runtime.migration] Running upgrade 181f10493468 -> df50e92ffc5e, Add Experiment Tags Table\n",
      "INFO  [alembic.runtime.migration] Running upgrade df50e92ffc5e -> 7ac759974ad8, Update run tags with larger limit\n",
      "INFO  [alembic.runtime.migration] Running upgrade 7ac759974ad8 -> 89d4b8295536, create latest metrics table\n",
      "INFO  [89d4b8295536_create_latest_metrics_table_py] Migration complete!\n",
      "INFO  [alembic.runtime.migration] Running upgrade 89d4b8295536 -> 2b4d017a5e9b, add model registry tables to db\n",
      "INFO  [2b4d017a5e9b_add_model_registry_tables_to_db_py] Adding registered_models and model_versions tables to database.\n",
      "INFO  [2b4d017a5e9b_add_model_registry_tables_to_db_py] Migration complete!\n",
      "INFO  [alembic.runtime.migration] Running upgrade 2b4d017a5e9b -> cfd24bdc0731, Update run status constraint with killed\n",
      "INFO  [alembic.runtime.migration] Running upgrade cfd24bdc0731 -> 0a8213491aaa, drop_duplicate_killed_constraint\n",
      "INFO  [alembic.runtime.migration] Running upgrade 0a8213491aaa -> 728d730b5ebd, add registered model tags table\n",
      "INFO  [alembic.runtime.migration] Running upgrade 728d730b5ebd -> 27a6a02d2cf1, add model version tags table\n",
      "INFO  [alembic.runtime.migration] Running upgrade 27a6a02d2cf1 -> 84291f40a231, add run_link to model_version\n",
      "INFO  [alembic.runtime.migration] Running upgrade 84291f40a231 -> a8c4a736bde6, allow nulls for run_id\n",
      "INFO  [alembic.runtime.migration] Running upgrade a8c4a736bde6 -> 39d1c3be5f05, add_is_nan_constraint_for_metrics_tables_if_necessary\n",
      "INFO  [alembic.runtime.migration] Running upgrade 39d1c3be5f05 -> c48cb773bb87, reset_default_value_for_is_nan_in_metrics_table_for_mysql\n",
      "INFO  [alembic.runtime.migration] Running upgrade c48cb773bb87 -> bd07f7e963c5, create index on run_uuid\n",
      "INFO  [alembic.runtime.migration] Context impl SQLiteImpl.\n",
      "INFO  [alembic.runtime.migration] Will assume non-transactional DDL.\n"
     ]
    }
   ],
   "source": [
    "# O componente MLflow Tracking é uma API e interface do usuário para registrar parâmetros, versões de código, métricas e arquivos de saída \n",
    "# ao executar seu código de aprendizado de máquina e para visualizar os resultados posteriormente.\n",
    "# Muitos usuários também executam o MLflow em suas máquinas locais com um banco de dados compatível com SQLAlchemy : SQLite . \n",
    "# Nesse caso, os artefatos são armazenados no ./mlruns diretório local e as entidades MLflow são inseridas em um arquivo de banco de dados SQLite mlruns.db.\n",
    "\n",
    "# Configura o MLflow para usar o sqlite como repositorio\n",
    "mlflow.set_tracking_uri(\"sqlite:///mlruns.db\")\n",
    "\n",
    "experiment_name = 'Classificador de Arremessos' # Define o nome do experimento\n",
    "experiment = mlflow.get_experiment_by_name(experiment_name) # Recuperar um experimento pelo nome do experimento da loja de back-end\n",
    "if experiment is None:\n",
    "    experiment_id = mlflow.create_experiment(experiment_name) # Cria um experimento.\n",
    "    experiment = mlflow.get_experiment(experiment_id) # Recuperar um experimento por experiment_id da loja de back-end\n",
    "experiment_id = experiment.experiment_id"
   ]
  },
  {
   "cell_type": "markdown",
   "id": "45f5eb76-7205-4054-92f7-9a758308378f",
   "metadata": {},
   "source": [
    "# Leitura dos dados de arremessos "
   ]
  },
  {
   "cell_type": "code",
   "execution_count": 5,
   "id": "597cccee-8bd4-456a-adb3-8ae184698eec",
   "metadata": {},
   "outputs": [
    {
     "name": "stdout",
     "output_type": "stream",
     "text": [
      "== Bases de Dados ==\n",
      "data_kobe (16228, 6)\n",
      "data_operation (4057, 6)\n",
      "data_novelty (5412, 6)\n",
      "Columns: Index(['lat', 'lon', 'minutes_remaining', 'playoffs', 'shot_distance',\n",
      "       'shot_made_flag'],\n",
      "      dtype='object')\n"
     ]
    }
   ],
   "source": [
    "# COLOCAR RUN DE LEITURA DE DADOS\n",
    "# PARAMETROS: top_features,\n",
    "# METRICS: SHAPE de cada base de dados\n",
    "# ARTIFACTS: nenhum\n",
    "\n",
    "top_features = ['lat','lon','minutes_remaining', 'playoffs','shot_distance']\n",
    "\n",
    "# Inicia uma nova execução do MLflow, definindo-a como a execução ativa na qual as métricas e os parâmetros serão registrados. \n",
    "# O valor de retorno pode ser usado como gerenciador de contexto dentro de um withbloco; \n",
    "# caso contrário, você deve chamar end_run() para encerrar a execução atual.\n",
    "\n",
    "with mlflow.start_run(\n",
    "    experiment_id=experiment_id, \n",
    "    run_name = 'PreparacaoDados'):\n",
    "    df_kobe = pd.read_csv('../Data/dataset_kobe.csv',sep=',')\n",
    "    df_kobe = df_kobe.dropna() # remove a linha que possua alguma coluna vazia\n",
    "    df_kobe['shot_made_flag'] = df_kobe['shot_made_flag'].astype(int) # converte a coluna em inteiro\n",
    "    kobe_target_col = 'shot_made_flag' # Define a coluna alvo\n",
    "    kobe_label_map = df_kobe[['shot_made_flag']].drop_duplicates() # \n",
    "    \n",
    "    # Copia todos os dados do dataframe principal selecionando as top_features e o shot_type\n",
    "    df_kobe = df_kobe[top_features + ['shot_type', kobe_target_col]].copy()\n",
    "\n",
    "    # Copia os dados do dataframe com as top_features selecionando os casos onde shot_type for igual a \"2PT Field Goal\"\n",
    "    # e remove a coluna shot_type\n",
    "    data_kobe = df_kobe[df_kobe['shot_type'] == '2PT Field Goal'].copy().drop('shot_type', axis=1)\n",
    "    \n",
    "    # Separar parte do dataframe que contém shot_type for igual a \"2PT Field Goal\"para compor a base de operacao e treinamento\n",
    "    data_kobe, data_operation, ytrain, ytest = model_selection.train_test_split(\n",
    "        data_kobe, \n",
    "        data_kobe[kobe_target_col],\n",
    "        test_size=0.2)\n",
    "    data_kobe[kobe_target_col]     = ytrain\n",
    "    data_operation[kobe_target_col] = ytest\n",
    "    \n",
    "    # Copia os dados do dataframe com as top_features selecionando os casos onde shot_type for igual a \"3PT Field Goal\"\n",
    "    # e remove a coluna shot_type\n",
    "    data_novelty = df_kobe[df_kobe['shot_type'] == '3PT Field Goal'].copy().drop('shot_type', axis=1)\n",
    "    \n",
    "    # grava os dataframes em arquivos parquet .\n",
    "    data_novelty.to_parquet('modelo_arremesso_novidade.parquet')\n",
    "    data_operation.to_parquet('modelo_arremesso_operacao.parquet')\n",
    "    \n",
    "    # to_parquet - Esta função grava o dataframe como um arquivo parquet.\n",
    "    # O Apache Parquet fornece uma serialização colunar binária particionada para quadros de dados. \n",
    "    # Ele foi projetado para tornar a leitura e gravação de quadros de dados eficientes e para facilitar o compartilhamento de dados entre linguagens de análise de dados. \n",
    "    # O Parquet pode usar uma variedade de técnicas de compactação para reduzir o tamanho do arquivo o máximo possível, mantendo um bom desempenho de leitura.\n",
    "    \n",
    "    # LOG DE PARAMETROS DO MODELO\n",
    "    mlflow.log_param(\"top_features\", top_features)\n",
    "\n",
    "    # LOG DE METRICAS GLOBAIS\n",
    "    mlflow.log_metric(\"data_train\", data_kobe.shape[0])\n",
    "    mlflow.log_metric(\"data_operation\", data_operation.shape[0])\n",
    "    mlflow.log_metric(\"data_novelty\", data_novelty.shape[0]) \n",
    "\n",
    "mlflow.end_run()\n",
    "\n",
    "print('== Bases de Dados ==')\n",
    "print(f'data_kobe {data_kobe.shape}')\n",
    "print(f'data_operation {data_operation.shape}')\n",
    "print(f'data_novelty {data_novelty.shape}')\n",
    "print(f'Columns: {data_kobe.columns}')"
   ]
  },
  {
   "cell_type": "code",
   "execution_count": 6,
   "id": "58496be4-13ac-4b17-ab56-91be1565f607",
   "metadata": {},
   "outputs": [],
   "source": [
    "# mlflow ui --backend-store-uri sqlite:///mlruns.db -p 5002"
   ]
  },
  {
   "cell_type": "markdown",
   "id": "b8e17201-9f1d-48cf-b1d0-48521e4fc3ef",
   "metadata": {},
   "source": [
    "# Treinamento do modelo"
   ]
  },
  {
   "cell_type": "code",
   "execution_count": 7,
   "id": "0b84fa5e-b7e5-42da-86dd-a231bdc758a6",
   "metadata": {},
   "outputs": [
    {
     "name": "stderr",
     "output_type": "stream",
     "text": [
      "INFO  [logs] Saving 'Feature Importance.png'\n",
      "INFO  [logs] Visual Rendered Successfully\n",
      "INFO  [logs] plot_model() succesfully completed......................................\n",
      "INFO  [logs] Initializing save_model()\n",
      "INFO  [logs] save_model(model=CustomProbabilityThresholdClassifier(C=1.0, class_weight=None,\n",
      "                                     classifier=LogisticRegression(C=1.0,\n",
      "                                                                   class_weight=None,\n",
      "                                                                   dual=False,\n",
      "                                                                   fit_intercept=True,\n",
      "                                                                   intercept_scaling=1,\n",
      "                                                                   l1_ratio=None,\n",
      "                                                                   max_iter=1000,\n",
      "                                                                   multi_class='auto',\n",
      "                                                                   n_jobs=None,\n",
      "                                                                   penalty='l2',\n",
      "                                                                   random_state=1456,\n",
      "                                                                   solver='lbfgs',\n",
      "                                                                   tol=0.0001,\n",
      "                                                                   verbose=0,\n",
      "                                                                   warm_start=False),\n",
      "                                     dual=False, fit_intercept=True,\n",
      "                                     intercept_scaling=1, l1_ratio=None,\n",
      "                                     max_iter=1000, multi_class='auto',\n",
      "                                     n_jobs=None, penalty='l2',\n",
      "                                     probability_threshold=0.5,\n",
      "                                     random_state=1456, solver='lbfgs',\n",
      "                                     tol=0.0001, verbose=0, warm_start=False), model_name=./modelo_arremesso, prep_pipe_=Pipeline(memory=None,\n",
      "         steps=[('dtypes',\n",
      "                 DataTypes_Auto_infer(categorical_features=[],\n",
      "                                      display_types=False, features_todrop=[],\n",
      "                                      id_columns=[],\n",
      "                                      ml_usecase='classification',\n",
      "                                      numerical_features=['lat', 'lon',\n",
      "                                                          'minutes_remaining',\n",
      "                                                          'playoffs',\n",
      "                                                          'shot_distance'],\n",
      "                                      target='shot_made_flag',\n",
      "                                      time_features=[])),\n",
      "                ('imputer',\n",
      "                 Simple_Imputer(categorical_strategy='not_available',...\n",
      "                ('scaling', 'passthrough'), ('P_transform', 'passthrough'),\n",
      "                ('binn', 'passthrough'), ('rem_outliers', 'passthrough'),\n",
      "                ('cluster_all', 'passthrough'),\n",
      "                ('dummy', Dummify(target='shot_made_flag')),\n",
      "                ('fix_perfect', Remove_100(target='shot_made_flag')),\n",
      "                ('clean_names', Clean_Colum_Names()),\n",
      "                ('feature_select', 'passthrough'), ('fix_multi', 'passthrough'),\n",
      "                ('dfs', 'passthrough'), ('pca', 'passthrough')],\n",
      "         verbose=False), verbose=True, kwargs={})\n",
      "INFO  [logs] Adding model into prep_pipe\n",
      "INFO  [logs] ./modelo_arremesso.pkl saved in current working directory\n",
      "INFO  [logs] Pipeline(memory=None,\n",
      "         steps=[('dtypes',\n",
      "                 DataTypes_Auto_infer(categorical_features=[],\n",
      "                                      display_types=False, features_todrop=[],\n",
      "                                      id_columns=[],\n",
      "                                      ml_usecase='classification',\n",
      "                                      numerical_features=['lat', 'lon',\n",
      "                                                          'minutes_remaining',\n",
      "                                                          'playoffs',\n",
      "                                                          'shot_distance'],\n",
      "                                      target='shot_made_flag',\n",
      "                                      time_features=[])),\n",
      "                ('imputer',\n",
      "                 Simple_Imputer(categorical_strategy='not_available',...\n",
      "                                                                                    multi_class='auto',\n",
      "                                                                                    n_jobs=None,\n",
      "                                                                                    penalty='l2',\n",
      "                                                                                    random_state=1456,\n",
      "                                                                                    solver='lbfgs',\n",
      "                                                                                    tol=0.0001,\n",
      "                                                                                    verbose=0,\n",
      "                                                                                    warm_start=False),\n",
      "                                                      dual=False,\n",
      "                                                      fit_intercept=True,\n",
      "                                                      intercept_scaling=1,\n",
      "                                                      l1_ratio=None,\n",
      "                                                      max_iter=1000,\n",
      "                                                      multi_class='auto',\n",
      "                                                      n_jobs=None, penalty='l2',\n",
      "                                                      probability_threshold=0.5,\n",
      "                                                      random_state=1456,\n",
      "                                                      solver='lbfgs',\n",
      "                                                      tol=0.0001, verbose=0,\n",
      "                                                      warm_start=False)]],\n",
      "         verbose=False)\n",
      "INFO  [logs] save_model() successfully completed......................................\n",
      "INFO  [logs] Initializing load_model()\n",
      "INFO  [logs] load_model(model_name=./modelo_arremesso, platform=None, authentication=None, verbose=True)\n"
     ]
    },
    {
     "name": "stdout",
     "output_type": "stream",
     "text": [
      "Transformation Pipeline and Model Successfully Saved\n",
      "Transformation Pipeline and Model Successfully Loaded\n"
     ]
    }
   ],
   "source": [
    "import pycaret.classification as pc # Essa função inicializa o ambiente de treinamento e cria o pipeline de transformação.\n",
    "# COLOCAR RUN DE TREINAMENTO DE MODELOS\n",
    "# PARAMETROS: fold_strategy, fold, model_name, registered_model_name, cross_validation\n",
    "# METRICS: auto sklearn\n",
    "# ARTIFACTS: plots\n",
    "\n",
    "model_name = 'lr'\n",
    "probability_threshold = 0.5\n",
    "cross_validation = True\n",
    "fold_strategy = 'stratifiedkfold',\n",
    "fold = 10\n",
    "\n",
    "# train/test\n",
    "s = pc.setup(data = data_kobe, \n",
    "             numeric_features = top_features,\n",
    "             target = kobe_target_col,\n",
    "             train_size=0.7,\n",
    "             silent = True,\n",
    "             fold_strategy = 'stratifiedkfold',\n",
    "             fold = fold,\n",
    "             log_experiment = True, \n",
    "             experiment_name = experiment_name, \n",
    "             log_plots = True\n",
    "            )\n",
    "bestmodel = pc.create_model(model_name,\n",
    "                            cross_validation = cross_validation, \n",
    "                            probability_threshold=probability_threshold)\n",
    "\n",
    "# Log do run, e nao do modelo respectivo\n",
    "classification_plots = [ 'auc','pr','confusion_matrix',\n",
    "#                          'error', 'class_report', \n",
    "                        'threshold',\n",
    "                         'learning','vc','feature',\n",
    "                       ]\n",
    "for plot_type in classification_plots:\n",
    "    print('=> Aplicando plot ', plot_type)\n",
    "    try:\n",
    "        artifact = pc.plot_model(bestmodel, plot=plot_type, save=True, use_train_data=False)\n",
    "        mlflow.log_artifact(artifact)\n",
    "    except:\n",
    "        print('=> Nao possivel plotar: ', plot_type )\n",
    "        continue\n",
    "\n",
    "pc.save_model(bestmodel, f'./{registered_model_name}') \n",
    "# Carrega novamente o pipeline + bestmodel\n",
    "model_pipe = pc.load_model(f'./{registered_model_name}')\n",
    "\n",
    "\n",
    "mlflow.end_run()"
   ]
  },
  {
   "cell_type": "markdown",
   "id": "5c0bd866-474a-4ac1-b1e2-69da1790fb70",
   "metadata": {},
   "source": [
    "# Avaliar a precisão mínima do modelo"
   ]
  },
  {
   "cell_type": "code",
   "execution_count": 8,
   "id": "68882c02-4277-424a-9a0b-16fba58e9c0d",
   "metadata": {},
   "outputs": [
    {
     "name": "stderr",
     "output_type": "stream",
     "text": [
      "INFO  [logs] Initializing predict_model()\n",
      "INFO  [logs] predict_model(estimator=CustomProbabilityThresholdClassifier(C=1.0, class_weight=None,\n",
      "                                     classifier=LogisticRegression(C=1.0,\n",
      "                                                                   class_weight=None,\n",
      "                                                                   dual=False,\n",
      "                                                                   fit_intercept=True,\n",
      "                                                                   intercept_scaling=1,\n",
      "                                                                   l1_ratio=None,\n",
      "                                                                   max_iter=1000,\n",
      "                                                                   multi_class='auto',\n",
      "                                                                   n_jobs=None,\n",
      "                                                                   penalty='l2',\n",
      "                                                                   random_state=1456,\n",
      "                                                                   solver='lbfgs',\n",
      "                                                                   tol=0.0001,\n",
      "                                                                   verbose=0,\n",
      "                                                                   warm_start=False),\n",
      "                                     dual=False, fit_intercept=True,\n",
      "                                     intercept_scaling=1, l1_ratio=None,\n",
      "                                     max_iter=1000, multi_class='auto',\n",
      "                                     n_jobs=None, penalty='l2',\n",
      "                                     probability_threshold=0.5,\n",
      "                                     random_state=1456, solver='lbfgs',\n",
      "                                     tol=0.0001, verbose=0, warm_start=False), probability_threshold=None, encoded_labels=False, drift_report=False, raw_score=False, round=4, verbose=True, ml_usecase=MLUsecase.CLASSIFICATION, display=None)\n",
      "INFO  [logs] Checking exceptions\n",
      "INFO  [logs] Preloading libraries\n",
      "INFO  [logs] Preparing display monitor\n"
     ]
    },
    {
     "data": {
      "text/html": [
       "<style type=\"text/css\">\n",
       "</style>\n",
       "<table id=\"T_66ac1\">\n",
       "  <thead>\n",
       "    <tr>\n",
       "      <th class=\"blank level0\" >&nbsp;</th>\n",
       "      <th id=\"T_66ac1_level0_col0\" class=\"col_heading level0 col0\" >Model</th>\n",
       "      <th id=\"T_66ac1_level0_col1\" class=\"col_heading level0 col1\" >Accuracy</th>\n",
       "      <th id=\"T_66ac1_level0_col2\" class=\"col_heading level0 col2\" >AUC</th>\n",
       "      <th id=\"T_66ac1_level0_col3\" class=\"col_heading level0 col3\" >Recall</th>\n",
       "      <th id=\"T_66ac1_level0_col4\" class=\"col_heading level0 col4\" >Prec.</th>\n",
       "      <th id=\"T_66ac1_level0_col5\" class=\"col_heading level0 col5\" >F1</th>\n",
       "      <th id=\"T_66ac1_level0_col6\" class=\"col_heading level0 col6\" >Kappa</th>\n",
       "      <th id=\"T_66ac1_level0_col7\" class=\"col_heading level0 col7\" >MCC</th>\n",
       "    </tr>\n",
       "  </thead>\n",
       "  <tbody>\n",
       "    <tr>\n",
       "      <th id=\"T_66ac1_level0_row0\" class=\"row_heading level0 row0\" >0</th>\n",
       "      <td id=\"T_66ac1_row0_col0\" class=\"data row0 col0\" >Logistic Regression</td>\n",
       "      <td id=\"T_66ac1_row0_col1\" class=\"data row0 col1\" >0.5765</td>\n",
       "      <td id=\"T_66ac1_row0_col2\" class=\"data row0 col2\" >0.5960</td>\n",
       "      <td id=\"T_66ac1_row0_col3\" class=\"data row0 col3\" >0.4743</td>\n",
       "      <td id=\"T_66ac1_row0_col4\" class=\"data row0 col4\" >0.5799</td>\n",
       "      <td id=\"T_66ac1_row0_col5\" class=\"data row0 col5\" >0.5218</td>\n",
       "      <td id=\"T_66ac1_row0_col6\" class=\"data row0 col6\" >0.1486</td>\n",
       "      <td id=\"T_66ac1_row0_col7\" class=\"data row0 col7\" >0.1510</td>\n",
       "    </tr>\n",
       "  </tbody>\n",
       "</table>\n"
      ],
      "text/plain": [
       "<pandas.io.formats.style.Styler at 0x1585c8bb3d0>"
      ]
     },
     "metadata": {},
     "output_type": "display_data"
    },
    {
     "name": "stdout",
     "output_type": "stream",
     "text": [
      "=> Aceito o modelo com precisão 0.5798969072164949 (min: 0.5)\n"
     ]
    },
    {
     "name": "stderr",
     "output_type": "stream",
     "text": [
      "Successfully registered model 'modelo_arremesso'.\n",
      "2022/09/04 20:18:15 INFO mlflow.tracking._model_registry.client: Waiting up to 300 seconds for model version to finish creation.                     Model name: modelo_arremesso, version 1\n",
      "Created version '1' of model 'modelo_arremesso'.\n"
     ]
    }
   ],
   "source": [
    "# COLOCAR RUN APROVACAO DE MODELO\n",
    "# PARAMETROS: min_precision\n",
    "# METRICS: new_version, precision\n",
    "# ARTIFACTS: None\n",
    "\n",
    "with mlflow.start_run(experiment_id=experiment_id, run_name = 'AprovacaoModelo'):\n",
    "    pred_holdout = pc.predict_model(bestmodel)\n",
    "    pr = metrics.precision_score(pred_holdout[kobe_target_col], pred_holdout['Label'],) # Calcula a precisão\n",
    "    # A precisão é a razão tp / (tp + fp) onde tp é o número de verdadeiros positivos e fp o número de falsos positivos. \n",
    "    # A precisão é intuitivamente a capacidade do classificador não rotular como positiva uma amostra que é negativa.\n",
    "    # O melhor valor é 1 e o pior valor é 0.\n",
    "    if pr > min_precision: # se o modelo atingiu a precisão mínima configurada\n",
    "        print(f'=> Aceito o modelo com precisão {pr} (min: {min_precision})')\n",
    "        pred_holdout.to_parquet('modelo_arremesso_teste.parquet') # Salva o modelo\n",
    "        # Assinatura do Modelo Inferida pelo MLFlow\n",
    "        model_features = list(data_kobe.drop(kobe_target_col, axis=1).columns) # armazena as features do modelo\n",
    "        inf_signature = infer_signature(data_kobe[model_features], model_pipe.predict(data_kobe))\n",
    "        # Exemplo de entrada para o MLmodel\n",
    "        input_example = {x: data_kobe[x].values[:nexamples] for x in model_features}\n",
    "        # Log do pipeline de modelagem do sklearn e registrar como uma nova versao\n",
    "        mlflow.sklearn.log_model(\n",
    "            sk_model=model_pipe,\n",
    "            artifact_path=\"sklearn-model\",\n",
    "            registered_model_name=registered_model_name,\n",
    "            signature = inf_signature,\n",
    "            input_example = input_example\n",
    "        )\n",
    "        # Criacao do cliente do servico MLFlow e atualizacao versao modelo\n",
    "        client = MlflowClient()\n",
    "        if model_version == -1:\n",
    "            model_version = client.get_latest_versions(registered_model_name)[-1].version\n",
    "        # Registrar o modelo como staging\n",
    "        client.transition_model_version_stage(\n",
    "            name=registered_model_name,\n",
    "            version=model_version, # Verificar com usuario qual versao\n",
    "            stage=\"Staging\"\n",
    "        )\n",
    "    else:\n",
    "        print(f'=> Rejeitado o modelo com precisão {pr} (min: {min_precision})')\n",
    "\n",
    "    # LOG DE PARAMETROS DO MODELO\n",
    "    mlflow.log_param(\"precisao_minima\", min_precision)\n",
    "\n",
    "    # LOG DE METRICAS GLOBAIS\n",
    "    mlflow.log_metric(\"new_version\", model_version)\n",
    "    mlflow.log_metric(\"precisao\", pr)\n",
    "\n",
    "mlflow.end_run()"
   ]
  },
  {
   "cell_type": "markdown",
   "id": "aa0e6cc5-5e87-45e0-8bce-78ad3220beb5",
   "metadata": {},
   "source": [
    "# Serviço do Modelo "
   ]
  },
  {
   "cell_type": "code",
   "execution_count": 15,
   "id": "0fe8e00c-a413-42ac-b9bc-300f647a870a",
   "metadata": {},
   "outputs": [],
   "source": [
    "# Para implantar um modelo associado a uma execução em um servidor de rastreamento, \n",
    "# defina a variável de ambiente MLFLOW_TRACKING_URI para a URL do servidor desejado.\n",
    "import os\n",
    "os.environ['MLFLOW_TRACKING_URI'] = 'sqlite:///mlruns.db' # Criando uma variável de ambiente"
   ]
  },
  {
   "cell_type": "code",
   "execution_count": 16,
   "id": "aa78731d-937b-4b90-9058-77730c48edb4",
   "metadata": {},
   "outputs": [
    {
     "name": "stdout",
     "output_type": "stream",
     "text": [
      "^C\n"
     ]
    }
   ],
   "source": [
    "# Para implantar o servidor, execute\n",
    "!mlflow models serve -m \"models:/modelo_arremesso/Staging\" --no-conda -p 5001 #"
   ]
  },
  {
   "cell_type": "code",
   "execution_count": 10,
   "id": "2a1b175a-6a51-4f15-a438-d6ab4f5870bb",
   "metadata": {},
   "outputs": [],
   "source": [
    "## Comando Power Shell para criar variável de ambiente e implantar o modelo\n",
    "# $env:MLFLOW_TRACKING_URI = 'sqlite:///mlruns.db'\n",
    "\n",
    "# Comando Powershell para listar variáveis de ambiente\n",
    "# dir env:\n",
    "\n",
    "# Comando para publicar o modelo\n",
    "# mlflow models serve -m \"models:/modelo_arremesso/Staging\" --no-conda -p 5001"
   ]
  },
  {
   "cell_type": "markdown",
   "id": "280fa332-5494-4b8f-988b-222a711f5c8e",
   "metadata": {},
   "source": [
    "# Operação Sistema preditor de arremessos"
   ]
  },
  {
   "cell_type": "code",
   "execution_count": 19,
   "id": "dfce87eb-1eb4-4ebe-947b-eb74b3afb498",
   "metadata": {},
   "outputs": [
    {
     "data": {
      "text/html": [
       "<div>\n",
       "<style scoped>\n",
       "    .dataframe tbody tr th:only-of-type {\n",
       "        vertical-align: middle;\n",
       "    }\n",
       "\n",
       "    .dataframe tbody tr th {\n",
       "        vertical-align: top;\n",
       "    }\n",
       "\n",
       "    .dataframe thead th {\n",
       "        text-align: right;\n",
       "    }\n",
       "</style>\n",
       "<table border=\"1\" class=\"dataframe\">\n",
       "  <thead>\n",
       "    <tr style=\"text-align: right;\">\n",
       "      <th></th>\n",
       "      <th>lat</th>\n",
       "      <th>lon</th>\n",
       "      <th>minutes_remaining</th>\n",
       "      <th>playoffs</th>\n",
       "      <th>shot_distance</th>\n",
       "      <th>shot_made_flag</th>\n",
       "      <th>operation_label</th>\n",
       "    </tr>\n",
       "  </thead>\n",
       "  <tbody>\n",
       "    <tr>\n",
       "      <th>11796</th>\n",
       "      <td>33.9343</td>\n",
       "      <td>-118.3158</td>\n",
       "      <td>11</td>\n",
       "      <td>0</td>\n",
       "      <td>11</td>\n",
       "      <td>0</td>\n",
       "      <td>1</td>\n",
       "    </tr>\n",
       "    <tr>\n",
       "      <th>5237</th>\n",
       "      <td>33.9623</td>\n",
       "      <td>-118.3548</td>\n",
       "      <td>11</td>\n",
       "      <td>0</td>\n",
       "      <td>11</td>\n",
       "      <td>0</td>\n",
       "      <td>1</td>\n",
       "    </tr>\n",
       "    <tr>\n",
       "      <th>22100</th>\n",
       "      <td>33.9393</td>\n",
       "      <td>-118.2638</td>\n",
       "      <td>8</td>\n",
       "      <td>0</td>\n",
       "      <td>10</td>\n",
       "      <td>1</td>\n",
       "      <td>1</td>\n",
       "    </tr>\n",
       "    <tr>\n",
       "      <th>5988</th>\n",
       "      <td>33.9583</td>\n",
       "      <td>-118.3258</td>\n",
       "      <td>10</td>\n",
       "      <td>0</td>\n",
       "      <td>10</td>\n",
       "      <td>1</td>\n",
       "      <td>1</td>\n",
       "    </tr>\n",
       "    <tr>\n",
       "      <th>4239</th>\n",
       "      <td>34.0033</td>\n",
       "      <td>-118.3718</td>\n",
       "      <td>10</td>\n",
       "      <td>0</td>\n",
       "      <td>10</td>\n",
       "      <td>1</td>\n",
       "      <td>1</td>\n",
       "    </tr>\n",
       "  </tbody>\n",
       "</table>\n",
       "</div>"
      ],
      "text/plain": [
       "           lat       lon  minutes_remaining  playoffs  shot_distance  \\\n",
       "11796  33.9343 -118.3158                 11         0             11   \n",
       "5237   33.9623 -118.3548                 11         0             11   \n",
       "22100  33.9393 -118.2638                  8         0             10   \n",
       "5988   33.9583 -118.3258                 10         0             10   \n",
       "4239   34.0033 -118.3718                 10         0             10   \n",
       "\n",
       "       shot_made_flag  operation_label  \n",
       "11796               0                1  \n",
       "5237                0                1  \n",
       "22100               1                1  \n",
       "5988                1                1  \n",
       "4239                1                1  "
      ]
     },
     "execution_count": 19,
     "metadata": {},
     "output_type": "execute_result"
    }
   ],
   "source": [
    "import requests\n",
    "# Configura \n",
    "host = 'localhost'\n",
    "port = '5001'\n",
    "url = f'http://{host}:{port}/invocations'\n",
    "headers = {'Content-Type': 'application/json',}\n",
    "\n",
    "http_data = data_operation.drop(kobe_target_col,axis=1).to_json(orient='split') # Serializando os dados do dataframe para teste do modelo\n",
    "r = requests.post(url=url, headers=headers, data=http_data) # Testando o modelo\n",
    "\n",
    "data_operation.loc[:, 'operation_label'] = pd.read_json(r.text).values[:,0] # Recuperando o resultado do teste\n",
    "\n",
    "data_operation.to_parquet('modelo_arremesso_operacao.parquet') # Gravando o dataframe de teste\n",
    "data_operation[data_operation.operation_label == 1].sort_values('shot_distance', ascending=False).head(5)"
   ]
  },
  {
   "cell_type": "markdown",
   "id": "835cc065-0861-48dc-a615-ca9f73384e81",
   "metadata": {},
   "source": [
    "# Revalidacao de Amostras para Monitoramento"
   ]
  },
  {
   "cell_type": "code",
   "execution_count": 20,
   "id": "8bc3b284-9826-45d6-8241-9db127483458",
   "metadata": {},
   "outputs": [
    {
     "name": "stdout",
     "output_type": "stream",
     "text": [
      "== DADOS DE CONTROLE ==\n",
      "              precision    recall  f1-score   support\n",
      "\n",
      "           0       0.52      0.68      0.59        69\n",
      "           1       0.63      0.47      0.54        81\n",
      "\n",
      "    accuracy                           0.57       150\n",
      "   macro avg       0.58      0.58      0.57       150\n",
      "weighted avg       0.58      0.57      0.56       150\n",
      "\n"
     ]
    }
   ],
   "source": [
    "# COLOCAR RUN REVALIDACAO\n",
    "# PARAMETROS: min_samples_control\n",
    "# METRICS: matriz de confusao\n",
    "# ARTIFACTS:\n",
    "\n",
    "\n",
    "# Utilizacao da amostra de controle, que teria sido reavaliada por especialistas\n",
    "min_samples_control = 150\n",
    "\n",
    "with mlflow.start_run(experiment_id=experiment_id, run_name = 'RevalidacaoOperacao'):\n",
    "\n",
    "    data_operation = pd.read_parquet('modelo_arremesso_operacao.parquet')\n",
    "\n",
    "    data_control = data_operation.sample(min_samples_control, random_state=SEED)\n",
    "    data_control.to_parquet('modelo_arremesso_controle.parquet')\n",
    "\n",
    "    print('== DADOS DE CONTROLE ==')\n",
    "    print(metrics.classification_report(data_control[kobe_target_col], data_control['operation_label']))\n",
    "    \n",
    "    # LOG DE PARAMETROS DO MODELO\n",
    "    mlflow.log_param(\"min_samples_control\", min_samples_control)\n",
    "\n",
    "    # LOG DE METRICAS GLOBAIS\n",
    "    cm = metrics.confusion_matrix(data_control[kobe_target_col], data_control['operation_label'])\n",
    "    specificity = cm[0,0] / cm.sum(axis=1)[0]\n",
    "    sensibility = cm[1,1] / cm.sum(axis=1)[1]\n",
    "    precision   = cm[1,1] / cm.sum(axis=0)[1]\n",
    "    mlflow.log_metric(\"Especificidade\", specificity)\n",
    "    mlflow.log_metric(\"Sensibilidade\", sensibility)\n",
    "    mlflow.log_metric(\"Precisao\", precision)\n",
    "\n",
    "mlflow.end_run()"
   ]
  },
  {
   "cell_type": "markdown",
   "id": "73a3567a-d1ac-43b9-8417-3a0a2e9df90d",
   "metadata": {},
   "source": [
    "## Alarme de Desvio "
   ]
  },
  {
   "cell_type": "code",
   "execution_count": 21,
   "id": "5f079fd3-eef6-441a-b1cc-886b8c850874",
   "metadata": {},
   "outputs": [],
   "source": [
    "# reset matplotlib\n",
    "\n",
    "mpl.rcParams.update(inline_rc)\n",
    "font = {'family' : 'normal',\n",
    "        'weight' : 'normal',\n",
    "        'size'   : 14}\n",
    "mpl.rc('font', **font)\n",
    "lines = {'linewidth' : 3}\n",
    "mpl.rc('lines', **lines)\n",
    "\n",
    "def data_drift_alarm(var_name, dev_data, data_test, data_control):    \n",
    "    sn.kdeplot(dev_data[var_name], label='Desenvolvimento')\n",
    "    sn.kdeplot(data_test[var_name], label='Teste')\n",
    "    sn.kdeplot(data_control[var_name], label='Monitoramento')\n",
    "    plt.grid()\n",
    "    plt.legend(loc='best')\n",
    "    plt.title(f'Distribuição Variável {var_name}')\n",
    "    plt.ylabel('Densidade')\n",
    "    plt.xlabel(f'Unidade de {var_name}')\n",
    "    plt.tight_layout()"
   ]
  },
  {
   "cell_type": "markdown",
   "id": "1ca0c376-9214-4bb6-84e5-d37518c2686f",
   "metadata": {},
   "source": [
    "## Alarme de Retreinamento"
   ]
  },
  {
   "cell_type": "code",
   "execution_count": 22,
   "id": "a5faf0c8-5a31-4b2c-8708-8af4e9a2acb7",
   "metadata": {},
   "outputs": [],
   "source": [
    "def alarm(data_monitoring, testset, min_eff_alarm):\n",
    "    cm = metrics.confusion_matrix(data_monitoring[kobe_target_col], data_monitoring['operation_label'])\n",
    "    specificity_m = cm[0,0] / cm.sum(axis=1)[0]\n",
    "    sensibility_m = cm[1,1] / cm.sum(axis=1)[1]\n",
    "    precision_m   = cm[1,1] / cm.sum(axis=0)[1]\n",
    "\n",
    "    cm = metrics.confusion_matrix(testset[kobe_target_col], testset['Label'])\n",
    "    specificity_t = cm[0,0] / cm.sum(axis=1)[0]\n",
    "    sensibility_t = cm[1,1] / cm.sum(axis=1)[1]\n",
    "    precision_t   = cm[1,1] / cm.sum(axis=0)[1]\n",
    "\n",
    "    retrain = False\n",
    "    for name, metric_m, metric_t in zip(['especificidade', 'sensibilidade', 'precisao'],\n",
    "                                        [specificity_m, sensibility_m, precision_m],\n",
    "                                        [specificity_t, sensibility_t, precision_t]):\n",
    "        \n",
    "        print(f'\\t=> {name} de teste {metric_t} e de controle {metric_m}')\n",
    "        if (metric_t-metric_m)/metric_t > min_eff_alarm:\n",
    "            print(f'\\t=> MODELO OPERANDO FORA DO ESPERADO')\n",
    "            retrain = True\n",
    "        else:\n",
    "            print(f'\\t=> MODELO OPERANDO DENTRO DO ESPERADO')\n",
    "           \n",
    "        \n",
    "    return (retrain, [specificity_m, sensibility_m, precision_m],\n",
    "                                        [specificity_t, sensibility_t, precision_t] ) "
   ]
  },
  {
   "cell_type": "markdown",
   "id": "8b49e194-1908-45fa-9c72-0e6456c1c87e",
   "metadata": {},
   "source": [
    "### Monitoramento Base Operacao "
   ]
  },
  {
   "cell_type": "code",
   "execution_count": 23,
   "id": "1a2d7c0f-dc12-4d3b-9d05-a65434321a5d",
   "metadata": {},
   "outputs": [
    {
     "name": "stdout",
     "output_type": "stream",
     "text": [
      "== ALARME DE RETREINAMENTO - BASE CONTROLE ==\n",
      "\t=> especificidade de teste 0.6736083299959952 e de controle 0.6811594202898551\n",
      "\t=> MODELO OPERANDO DENTRO DO ESPERADO\n",
      "\t=> sensibilidade de teste 0.474283305227656 e de controle 0.4691358024691358\n",
      "\t=> MODELO OPERANDO DENTRO DO ESPERADO\n",
      "\t=> precisao de teste 0.5798969072164949 e de controle 0.6333333333333333\n",
      "\t=> MODELO OPERANDO DENTRO DO ESPERADO\n",
      "==> RETREINAMENTO NAO NECESSARIO\n"
     ]
    },
    {
     "ename": "KeyError",
     "evalue": "'volatile acidity'",
     "output_type": "error",
     "traceback": [
      "\u001b[1;31m---------------------------------------------------------------------------\u001b[0m",
      "\u001b[1;31mKeyError\u001b[0m                                  Traceback (most recent call last)",
      "File \u001b[1;32md:\\virtualenvs\\.eng_ml\\lib\\site-packages\\pandas\\core\\indexes\\base.py:3621\u001b[0m, in \u001b[0;36mIndex.get_loc\u001b[1;34m(self, key, method, tolerance)\u001b[0m\n\u001b[0;32m   3620\u001b[0m \u001b[38;5;28;01mtry\u001b[39;00m:\n\u001b[1;32m-> 3621\u001b[0m     \u001b[38;5;28;01mreturn\u001b[39;00m \u001b[38;5;28;43mself\u001b[39;49m\u001b[38;5;241;43m.\u001b[39;49m\u001b[43m_engine\u001b[49m\u001b[38;5;241;43m.\u001b[39;49m\u001b[43mget_loc\u001b[49m\u001b[43m(\u001b[49m\u001b[43mcasted_key\u001b[49m\u001b[43m)\u001b[49m\n\u001b[0;32m   3622\u001b[0m \u001b[38;5;28;01mexcept\u001b[39;00m \u001b[38;5;167;01mKeyError\u001b[39;00m \u001b[38;5;28;01mas\u001b[39;00m err:\n",
      "File \u001b[1;32md:\\virtualenvs\\.eng_ml\\lib\\site-packages\\pandas\\_libs\\index.pyx:136\u001b[0m, in \u001b[0;36mpandas._libs.index.IndexEngine.get_loc\u001b[1;34m()\u001b[0m\n",
      "File \u001b[1;32md:\\virtualenvs\\.eng_ml\\lib\\site-packages\\pandas\\_libs\\index.pyx:163\u001b[0m, in \u001b[0;36mpandas._libs.index.IndexEngine.get_loc\u001b[1;34m()\u001b[0m\n",
      "File \u001b[1;32mpandas\\_libs\\hashtable_class_helper.pxi:5198\u001b[0m, in \u001b[0;36mpandas._libs.hashtable.PyObjectHashTable.get_item\u001b[1;34m()\u001b[0m\n",
      "File \u001b[1;32mpandas\\_libs\\hashtable_class_helper.pxi:5206\u001b[0m, in \u001b[0;36mpandas._libs.hashtable.PyObjectHashTable.get_item\u001b[1;34m()\u001b[0m\n",
      "\u001b[1;31mKeyError\u001b[0m: 'volatile acidity'",
      "\nThe above exception was the direct cause of the following exception:\n",
      "\u001b[1;31mKeyError\u001b[0m                                  Traceback (most recent call last)",
      "Input \u001b[1;32mIn [23]\u001b[0m, in \u001b[0;36m<cell line: 10>\u001b[1;34m()\u001b[0m\n\u001b[0;32m     31\u001b[0m \u001b[38;5;66;03m# LOG ARTEFATO\u001b[39;00m\n\u001b[0;32m     32\u001b[0m var_name \u001b[38;5;241m=\u001b[39m \u001b[38;5;124m'\u001b[39m\u001b[38;5;124mvolatile acidity\u001b[39m\u001b[38;5;124m'\u001b[39m \u001b[38;5;66;03m# 'alcohol'\u001b[39;00m\n\u001b[1;32m---> 33\u001b[0m \u001b[43mdata_drift_alarm\u001b[49m\u001b[43m(\u001b[49m\u001b[43mvar_name\u001b[49m\u001b[43m,\u001b[49m\u001b[43m \u001b[49m\u001b[43mdata_kobe\u001b[49m\u001b[43m,\u001b[49m\u001b[43m \u001b[49m\u001b[43mpred_holdout\u001b[49m\u001b[43m,\u001b[49m\u001b[43m \u001b[49m\u001b[43mdata_control\u001b[49m\u001b[43m)\u001b[49m\n\u001b[0;32m     34\u001b[0m plot_path \u001b[38;5;241m=\u001b[39m \u001b[38;5;124mf\u001b[39m\u001b[38;5;124m'\u001b[39m\u001b[38;5;124mmonitor_datadrift_\u001b[39m\u001b[38;5;132;01m{\u001b[39;00mvar_name\u001b[38;5;132;01m}\u001b[39;00m\u001b[38;5;124m.png\u001b[39m\u001b[38;5;124m'\u001b[39m\n\u001b[0;32m     35\u001b[0m plt\u001b[38;5;241m.\u001b[39msavefig(plot_path)\n",
      "Input \u001b[1;32mIn [21]\u001b[0m, in \u001b[0;36mdata_drift_alarm\u001b[1;34m(var_name, dev_data, data_test, data_control)\u001b[0m\n\u001b[0;32m     11\u001b[0m \u001b[38;5;28;01mdef\u001b[39;00m \u001b[38;5;21mdata_drift_alarm\u001b[39m(var_name, dev_data, data_test, data_control):    \n\u001b[1;32m---> 12\u001b[0m     sn\u001b[38;5;241m.\u001b[39mkdeplot(\u001b[43mdev_data\u001b[49m\u001b[43m[\u001b[49m\u001b[43mvar_name\u001b[49m\u001b[43m]\u001b[49m, label\u001b[38;5;241m=\u001b[39m\u001b[38;5;124m'\u001b[39m\u001b[38;5;124mDesenvolvimento\u001b[39m\u001b[38;5;124m'\u001b[39m)\n\u001b[0;32m     13\u001b[0m     sn\u001b[38;5;241m.\u001b[39mkdeplot(data_test[var_name], label\u001b[38;5;241m=\u001b[39m\u001b[38;5;124m'\u001b[39m\u001b[38;5;124mTeste\u001b[39m\u001b[38;5;124m'\u001b[39m)\n\u001b[0;32m     14\u001b[0m     sn\u001b[38;5;241m.\u001b[39mkdeplot(data_control[var_name], label\u001b[38;5;241m=\u001b[39m\u001b[38;5;124m'\u001b[39m\u001b[38;5;124mMonitoramento\u001b[39m\u001b[38;5;124m'\u001b[39m)\n",
      "File \u001b[1;32md:\\virtualenvs\\.eng_ml\\lib\\site-packages\\pandas\\core\\frame.py:3505\u001b[0m, in \u001b[0;36mDataFrame.__getitem__\u001b[1;34m(self, key)\u001b[0m\n\u001b[0;32m   3503\u001b[0m \u001b[38;5;28;01mif\u001b[39;00m \u001b[38;5;28mself\u001b[39m\u001b[38;5;241m.\u001b[39mcolumns\u001b[38;5;241m.\u001b[39mnlevels \u001b[38;5;241m>\u001b[39m \u001b[38;5;241m1\u001b[39m:\n\u001b[0;32m   3504\u001b[0m     \u001b[38;5;28;01mreturn\u001b[39;00m \u001b[38;5;28mself\u001b[39m\u001b[38;5;241m.\u001b[39m_getitem_multilevel(key)\n\u001b[1;32m-> 3505\u001b[0m indexer \u001b[38;5;241m=\u001b[39m \u001b[38;5;28;43mself\u001b[39;49m\u001b[38;5;241;43m.\u001b[39;49m\u001b[43mcolumns\u001b[49m\u001b[38;5;241;43m.\u001b[39;49m\u001b[43mget_loc\u001b[49m\u001b[43m(\u001b[49m\u001b[43mkey\u001b[49m\u001b[43m)\u001b[49m\n\u001b[0;32m   3506\u001b[0m \u001b[38;5;28;01mif\u001b[39;00m is_integer(indexer):\n\u001b[0;32m   3507\u001b[0m     indexer \u001b[38;5;241m=\u001b[39m [indexer]\n",
      "File \u001b[1;32md:\\virtualenvs\\.eng_ml\\lib\\site-packages\\pandas\\core\\indexes\\base.py:3623\u001b[0m, in \u001b[0;36mIndex.get_loc\u001b[1;34m(self, key, method, tolerance)\u001b[0m\n\u001b[0;32m   3621\u001b[0m     \u001b[38;5;28;01mreturn\u001b[39;00m \u001b[38;5;28mself\u001b[39m\u001b[38;5;241m.\u001b[39m_engine\u001b[38;5;241m.\u001b[39mget_loc(casted_key)\n\u001b[0;32m   3622\u001b[0m \u001b[38;5;28;01mexcept\u001b[39;00m \u001b[38;5;167;01mKeyError\u001b[39;00m \u001b[38;5;28;01mas\u001b[39;00m err:\n\u001b[1;32m-> 3623\u001b[0m     \u001b[38;5;28;01mraise\u001b[39;00m \u001b[38;5;167;01mKeyError\u001b[39;00m(key) \u001b[38;5;28;01mfrom\u001b[39;00m \u001b[38;5;21;01merr\u001b[39;00m\n\u001b[0;32m   3624\u001b[0m \u001b[38;5;28;01mexcept\u001b[39;00m \u001b[38;5;167;01mTypeError\u001b[39;00m:\n\u001b[0;32m   3625\u001b[0m     \u001b[38;5;66;03m# If we have a listlike key, _check_indexing_error will raise\u001b[39;00m\n\u001b[0;32m   3626\u001b[0m     \u001b[38;5;66;03m#  InvalidIndexError. Otherwise we fall through and re-raise\u001b[39;00m\n\u001b[0;32m   3627\u001b[0m     \u001b[38;5;66;03m#  the TypeError.\u001b[39;00m\n\u001b[0;32m   3628\u001b[0m     \u001b[38;5;28mself\u001b[39m\u001b[38;5;241m.\u001b[39m_check_indexing_error(key)\n",
      "\u001b[1;31mKeyError\u001b[0m: 'volatile acidity'"
     ]
    }
   ],
   "source": [
    "# COLOCAR RUN MONITORAMENTO OPERACAO\n",
    "# PARAMETROS: min_eff_alarm\n",
    "# METRICS: metricas avaliadas e de referencia\n",
    "# ARTIFACTS:\n",
    "\n",
    "print('== ALARME DE RETREINAMENTO - BASE CONTROLE ==')\n",
    "# 10% de desvio aceitavel na metrica. Deve ser estimado pelo conjunto de validacao cruzada. \n",
    "min_eff_alarm = 0.1 \n",
    "\n",
    "with mlflow.start_run(experiment_id=experiment_id, run_name = 'MonitoramentoOperacao'):\n",
    "    data_control = pd.read_parquet('modelo_arremesso_controle.parquet')\n",
    "    \n",
    "    (retrain, [specificity_m, sensibility_m, precision_m],\n",
    "              [specificity_t, sensibility_t, precision_t] ) = alarm(data_control, pred_holdout, min_eff_alarm)\n",
    "    if retrain:\n",
    "        print('==> RETREINAMENTO NECESSARIO')\n",
    "    else:\n",
    "        print('==> RETREINAMENTO NAO NECESSARIO')\n",
    "    # LOG DE PARAMETROS DO MODELO\n",
    "    mlflow.log_param(\"min_eff_alarm\", min_eff_alarm)\n",
    "\n",
    "    # LOG DE METRICAS GLOBAIS\n",
    "    mlflow.log_metric(\"Alarme Retreino\", float(retrain))\n",
    "    mlflow.log_metric(\"Especificidade Controle\", specificity_m)\n",
    "    mlflow.log_metric(\"Sensibilidade Controle\", sensibility_m)\n",
    "    mlflow.log_metric(\"Precisao Controle\", precision_m)\n",
    "    mlflow.log_metric(\"Especificidade Teste\", specificity_t)\n",
    "    mlflow.log_metric(\"Sensibilidade Teste\", sensibility_t)\n",
    "    mlflow.log_metric(\"Precisao Teste\", precision_t)\n",
    "    \n",
    "    # LOG ARTEFATO\n",
    "    var_name = 'volatile acidity' # 'alcohol'\n",
    "    data_drift_alarm(var_name, data_kobe, pred_holdout, data_control)\n",
    "    plot_path = f'monitor_datadrift_{var_name}.png'\n",
    "    plt.savefig(plot_path)\n",
    "    mlflow.log_artifact(plot_path)\n",
    "    \n",
    "\n",
    "mlflow.end_run()  "
   ]
  },
  {
   "cell_type": "markdown",
   "id": "3753f39e-ba23-4bab-b4f6-734295d46fe5",
   "metadata": {},
   "source": [
    "# Operação Aplicação Python"
   ]
  },
  {
   "cell_type": "markdown",
   "id": "86bb23c4-06fa-4d3a-9e91-fd9a1e03b70b",
   "metadata": {},
   "source": [
    "### Monitoramento Base de Novidade"
   ]
  },
  {
   "cell_type": "code",
   "execution_count": 25,
   "id": "73dd34bf-0e10-498f-b522-76f9664268ce",
   "metadata": {},
   "outputs": [
    {
     "name": "stdout",
     "output_type": "stream",
     "text": [
      "== ALARME DE RETREINAMENTO - BASE NOVIDADE ==\n",
      "\t=> especificidade de teste 0.6736083299959952 e de controle 0.9997245179063361\n",
      "\t=> MODELO OPERANDO DENTRO DO ESPERADO\n",
      "\t=> sensibilidade de teste 0.474283305227656 e de controle 0.0\n",
      "\t=> MODELO OPERANDO FORA DO ESPERADO\n",
      "\t=> precisao de teste 0.5798969072164949 e de controle 0.0\n",
      "\t=> MODELO OPERANDO FORA DO ESPERADO\n",
      "==> RETREINAMENTO NECESSARIO\n"
     ]
    },
    {
     "name": "stderr",
     "output_type": "stream",
     "text": [
      "WARNI [matplotlib.font_manager] findfont: Font family ['normal'] not found. Falling back to DejaVu Sans.\n",
      "WARNI [matplotlib.font_manager] findfont: Font family ['normal'] not found. Falling back to DejaVu Sans.\n"
     ]
    },
    {
     "data": {
      "image/png": "[encoded data removed]",
      "text/plain": [
       "<Figure size 640x480 with 1 Axes>"
      ]
     },
     "metadata": {},
     "output_type": "display_data"
    }
   ],
   "source": [
    "# COLOCAR RUN MONITORAMENTO NOVIDADE\n",
    "# PARAMETROS: min_eff_alarm\n",
    "# METRICS: metricas avaliadas e de referencia\n",
    "# ARTIFACTS:\n",
    "\n",
    "print('== ALARME DE RETREINAMENTO - BASE NOVIDADE ==')\n",
    "# 10% de desvio aceitavel na metrica. Deve ser estimado pelo conjunto de validacao cruzada. \n",
    "min_eff_alarm = 0.1 \n",
    "\n",
    "with mlflow.start_run(experiment_id=experiment_id, run_name = 'MonitoramentoNovidade'):\n",
    "\n",
    "    model_uri = f\"models:/modelo_arremesso/Staging\"\n",
    "    loaded_model = mlflow.sklearn.load_model(model_uri)\n",
    "    data_novelty = pd.read_parquet('modelo_arremesso_novidade.parquet')\n",
    "    data_novelty.loc[:, 'operation_label'] = loaded_model.predict(data_novelty.drop(kobe_target_col,axis=1))\n",
    "    \n",
    "    (retrain, [specificity_m, sensibility_m, precision_m],\n",
    "              [specificity_t, sensibility_t, precision_t] ) = alarm(data_novelty, pred_holdout, min_eff_alarm)\n",
    "    if retrain:\n",
    "        print('==> RETREINAMENTO NECESSARIO')\n",
    "    else:\n",
    "        print('==> RETREINAMENTO NAO NECESSARIO')\n",
    "    # LOG DE PARAMETROS DO MODELO\n",
    "    mlflow.log_param(\"min_eff_alarm\", min_eff_alarm)\n",
    "\n",
    "    # LOG DE METRICAS GLOBAIS\n",
    "    mlflow.log_metric(\"Alarme Retreino\", float(retrain))\n",
    "    mlflow.log_metric(\"Especificidade Controle\", specificity_m)\n",
    "    mlflow.log_metric(\"Sensibilidade Controle\", sensibility_m)\n",
    "    mlflow.log_metric(\"Precisao Controle\", precision_m)\n",
    "    mlflow.log_metric(\"Especificidade Teste\", specificity_t)\n",
    "    mlflow.log_metric(\"Sensibilidade Teste\", sensibility_t)\n",
    "    mlflow.log_metric(\"Precisao Teste\", precision_t)\n",
    "    # LOG ARTEFATO\n",
    "    var_name = 'lat' # Latitude\n",
    "    data_drift_alarm(var_name, data_kobe, pred_holdout, data_novelty)\n",
    "    plot_path = f'novidade_datadrift_{var_name}.png'\n",
    "    plt.savefig(plot_path)\n",
    "    mlflow.log_artifact(plot_path)\n",
    "\n",
    "mlflow.end_run() "
   ]
  },
  {
   "cell_type": "code",
   "execution_count": null,
   "id": "9a0654a1-af46-45f6-b1d0-1bbf5b580350",
   "metadata": {},
   "outputs": [],
   "source": []
  }
 ],
 "metadata": {
  "kernelspec": {
   "display_name": "Python 3 (ipykernel)",
   "language": "python",
   "name": "python3"
  },
  "language_info": {
   "codemirror_mode": {
    "name": "ipython",
    "version": 3
   },
   "file_extension": ".py",
   "mimetype": "text/x-python",
   "name": "python",
   "nbconvert_exporter": "python",
   "pygments_lexer": "ipython3",
   "version": "3.8.10"
  }
 },
 "nbformat": 4,
 "nbformat_minor": 5
}
